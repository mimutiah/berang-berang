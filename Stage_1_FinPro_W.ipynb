{
  "nbformat": 4,
  "nbformat_minor": 0,
  "metadata": {
    "colab": {
      "provenance": []
    },
    "kernelspec": {
      "name": "python3",
      "display_name": "Python 3"
    },
    "language_info": {
      "name": "python"
    }
  },
  "cells": [
    {
      "cell_type": "markdown",
      "source": [
        "# **EDA AND PRE-PROCESSING**"
      ],
      "metadata": {
        "id": "X392iwUVOhvm"
      }
    },
    {
      "cell_type": "markdown",
      "source": [
        "## **Load Data**"
      ],
      "metadata": {
        "id": "957m6Ch2O1II"
      }
    },
    {
      "cell_type": "code",
      "execution_count": null,
      "metadata": {
        "colab": {
          "base_uri": "https://localhost:8080/",
          "height": 226
        },
        "id": "QFGkbdSbOZKg",
        "outputId": "2d8db794-e0b4-4492-9cfd-e35ca3d0e4db"
      },
      "outputs": [
        {
          "output_type": "execute_result",
          "data": {
            "text/plain": [
              "   age           job  marital  education default  balance housing loan  \\\n",
              "0   58    management  married   tertiary      no     2143     yes   no   \n",
              "1   44    technician   single  secondary      no       29     yes   no   \n",
              "2   33  entrepreneur  married  secondary      no        2     yes  yes   \n",
              "3   47   blue-collar  married    unknown      no     1506     yes   no   \n",
              "4   33       unknown   single    unknown      no        1      no   no   \n",
              "\n",
              "   contact  day month  duration  campaign  pdays  previous poutcome   y  \n",
              "0  unknown    5   may       261         1     -1         0  unknown  no  \n",
              "1  unknown    5   may       151         1     -1         0  unknown  no  \n",
              "2  unknown    5   may        76         1     -1         0  unknown  no  \n",
              "3  unknown    5   may        92         1     -1         0  unknown  no  \n",
              "4  unknown    5   may       198         1     -1         0  unknown  no  "
            ],
            "text/html": [
              "\n",
              "  <div id=\"df-e877e77b-b685-4016-a5c3-20dc6a959475\" class=\"colab-df-container\">\n",
              "    <div>\n",
              "<style scoped>\n",
              "    .dataframe tbody tr th:only-of-type {\n",
              "        vertical-align: middle;\n",
              "    }\n",
              "\n",
              "    .dataframe tbody tr th {\n",
              "        vertical-align: top;\n",
              "    }\n",
              "\n",
              "    .dataframe thead th {\n",
              "        text-align: right;\n",
              "    }\n",
              "</style>\n",
              "<table border=\"1\" class=\"dataframe\">\n",
              "  <thead>\n",
              "    <tr style=\"text-align: right;\">\n",
              "      <th></th>\n",
              "      <th>age</th>\n",
              "      <th>job</th>\n",
              "      <th>marital</th>\n",
              "      <th>education</th>\n",
              "      <th>default</th>\n",
              "      <th>balance</th>\n",
              "      <th>housing</th>\n",
              "      <th>loan</th>\n",
              "      <th>contact</th>\n",
              "      <th>day</th>\n",
              "      <th>month</th>\n",
              "      <th>duration</th>\n",
              "      <th>campaign</th>\n",
              "      <th>pdays</th>\n",
              "      <th>previous</th>\n",
              "      <th>poutcome</th>\n",
              "      <th>y</th>\n",
              "    </tr>\n",
              "  </thead>\n",
              "  <tbody>\n",
              "    <tr>\n",
              "      <th>0</th>\n",
              "      <td>58</td>\n",
              "      <td>management</td>\n",
              "      <td>married</td>\n",
              "      <td>tertiary</td>\n",
              "      <td>no</td>\n",
              "      <td>2143</td>\n",
              "      <td>yes</td>\n",
              "      <td>no</td>\n",
              "      <td>unknown</td>\n",
              "      <td>5</td>\n",
              "      <td>may</td>\n",
              "      <td>261</td>\n",
              "      <td>1</td>\n",
              "      <td>-1</td>\n",
              "      <td>0</td>\n",
              "      <td>unknown</td>\n",
              "      <td>no</td>\n",
              "    </tr>\n",
              "    <tr>\n",
              "      <th>1</th>\n",
              "      <td>44</td>\n",
              "      <td>technician</td>\n",
              "      <td>single</td>\n",
              "      <td>secondary</td>\n",
              "      <td>no</td>\n",
              "      <td>29</td>\n",
              "      <td>yes</td>\n",
              "      <td>no</td>\n",
              "      <td>unknown</td>\n",
              "      <td>5</td>\n",
              "      <td>may</td>\n",
              "      <td>151</td>\n",
              "      <td>1</td>\n",
              "      <td>-1</td>\n",
              "      <td>0</td>\n",
              "      <td>unknown</td>\n",
              "      <td>no</td>\n",
              "    </tr>\n",
              "    <tr>\n",
              "      <th>2</th>\n",
              "      <td>33</td>\n",
              "      <td>entrepreneur</td>\n",
              "      <td>married</td>\n",
              "      <td>secondary</td>\n",
              "      <td>no</td>\n",
              "      <td>2</td>\n",
              "      <td>yes</td>\n",
              "      <td>yes</td>\n",
              "      <td>unknown</td>\n",
              "      <td>5</td>\n",
              "      <td>may</td>\n",
              "      <td>76</td>\n",
              "      <td>1</td>\n",
              "      <td>-1</td>\n",
              "      <td>0</td>\n",
              "      <td>unknown</td>\n",
              "      <td>no</td>\n",
              "    </tr>\n",
              "    <tr>\n",
              "      <th>3</th>\n",
              "      <td>47</td>\n",
              "      <td>blue-collar</td>\n",
              "      <td>married</td>\n",
              "      <td>unknown</td>\n",
              "      <td>no</td>\n",
              "      <td>1506</td>\n",
              "      <td>yes</td>\n",
              "      <td>no</td>\n",
              "      <td>unknown</td>\n",
              "      <td>5</td>\n",
              "      <td>may</td>\n",
              "      <td>92</td>\n",
              "      <td>1</td>\n",
              "      <td>-1</td>\n",
              "      <td>0</td>\n",
              "      <td>unknown</td>\n",
              "      <td>no</td>\n",
              "    </tr>\n",
              "    <tr>\n",
              "      <th>4</th>\n",
              "      <td>33</td>\n",
              "      <td>unknown</td>\n",
              "      <td>single</td>\n",
              "      <td>unknown</td>\n",
              "      <td>no</td>\n",
              "      <td>1</td>\n",
              "      <td>no</td>\n",
              "      <td>no</td>\n",
              "      <td>unknown</td>\n",
              "      <td>5</td>\n",
              "      <td>may</td>\n",
              "      <td>198</td>\n",
              "      <td>1</td>\n",
              "      <td>-1</td>\n",
              "      <td>0</td>\n",
              "      <td>unknown</td>\n",
              "      <td>no</td>\n",
              "    </tr>\n",
              "  </tbody>\n",
              "</table>\n",
              "</div>\n",
              "    <div class=\"colab-df-buttons\">\n",
              "\n",
              "  <div class=\"colab-df-container\">\n",
              "    <button class=\"colab-df-convert\" onclick=\"convertToInteractive('df-e877e77b-b685-4016-a5c3-20dc6a959475')\"\n",
              "            title=\"Convert this dataframe to an interactive table.\"\n",
              "            style=\"display:none;\">\n",
              "\n",
              "  <svg xmlns=\"http://www.w3.org/2000/svg\" height=\"24px\" viewBox=\"0 -960 960 960\">\n",
              "    <path d=\"M120-120v-720h720v720H120Zm60-500h600v-160H180v160Zm220 220h160v-160H400v160Zm0 220h160v-160H400v160ZM180-400h160v-160H180v160Zm440 0h160v-160H620v160ZM180-180h160v-160H180v160Zm440 0h160v-160H620v160Z\"/>\n",
              "  </svg>\n",
              "    </button>\n",
              "\n",
              "  <style>\n",
              "    .colab-df-container {\n",
              "      display:flex;\n",
              "      gap: 12px;\n",
              "    }\n",
              "\n",
              "    .colab-df-convert {\n",
              "      background-color: #E8F0FE;\n",
              "      border: none;\n",
              "      border-radius: 50%;\n",
              "      cursor: pointer;\n",
              "      display: none;\n",
              "      fill: #1967D2;\n",
              "      height: 32px;\n",
              "      padding: 0 0 0 0;\n",
              "      width: 32px;\n",
              "    }\n",
              "\n",
              "    .colab-df-convert:hover {\n",
              "      background-color: #E2EBFA;\n",
              "      box-shadow: 0px 1px 2px rgba(60, 64, 67, 0.3), 0px 1px 3px 1px rgba(60, 64, 67, 0.15);\n",
              "      fill: #174EA6;\n",
              "    }\n",
              "\n",
              "    .colab-df-buttons div {\n",
              "      margin-bottom: 4px;\n",
              "    }\n",
              "\n",
              "    [theme=dark] .colab-df-convert {\n",
              "      background-color: #3B4455;\n",
              "      fill: #D2E3FC;\n",
              "    }\n",
              "\n",
              "    [theme=dark] .colab-df-convert:hover {\n",
              "      background-color: #434B5C;\n",
              "      box-shadow: 0px 1px 3px 1px rgba(0, 0, 0, 0.15);\n",
              "      filter: drop-shadow(0px 1px 2px rgba(0, 0, 0, 0.3));\n",
              "      fill: #FFFFFF;\n",
              "    }\n",
              "  </style>\n",
              "\n",
              "    <script>\n",
              "      const buttonEl =\n",
              "        document.querySelector('#df-e877e77b-b685-4016-a5c3-20dc6a959475 button.colab-df-convert');\n",
              "      buttonEl.style.display =\n",
              "        google.colab.kernel.accessAllowed ? 'block' : 'none';\n",
              "\n",
              "      async function convertToInteractive(key) {\n",
              "        const element = document.querySelector('#df-e877e77b-b685-4016-a5c3-20dc6a959475');\n",
              "        const dataTable =\n",
              "          await google.colab.kernel.invokeFunction('convertToInteractive',\n",
              "                                                    [key], {});\n",
              "        if (!dataTable) return;\n",
              "\n",
              "        const docLinkHtml = 'Like what you see? Visit the ' +\n",
              "          '<a target=\"_blank\" href=https://colab.research.google.com/notebooks/data_table.ipynb>data table notebook</a>'\n",
              "          + ' to learn more about interactive tables.';\n",
              "        element.innerHTML = '';\n",
              "        dataTable['output_type'] = 'display_data';\n",
              "        await google.colab.output.renderOutput(dataTable, element);\n",
              "        const docLink = document.createElement('div');\n",
              "        docLink.innerHTML = docLinkHtml;\n",
              "        element.appendChild(docLink);\n",
              "      }\n",
              "    </script>\n",
              "  </div>\n",
              "\n",
              "\n",
              "<div id=\"df-3e9deee1-710b-4d8d-ab1a-d892458c3777\">\n",
              "  <button class=\"colab-df-quickchart\" onclick=\"quickchart('df-3e9deee1-710b-4d8d-ab1a-d892458c3777')\"\n",
              "            title=\"Suggest charts\"\n",
              "            style=\"display:none;\">\n",
              "\n",
              "<svg xmlns=\"http://www.w3.org/2000/svg\" height=\"24px\"viewBox=\"0 0 24 24\"\n",
              "     width=\"24px\">\n",
              "    <g>\n",
              "        <path d=\"M19 3H5c-1.1 0-2 .9-2 2v14c0 1.1.9 2 2 2h14c1.1 0 2-.9 2-2V5c0-1.1-.9-2-2-2zM9 17H7v-7h2v7zm4 0h-2V7h2v10zm4 0h-2v-4h2v4z\"/>\n",
              "    </g>\n",
              "</svg>\n",
              "  </button>\n",
              "\n",
              "<style>\n",
              "  .colab-df-quickchart {\n",
              "      --bg-color: #E8F0FE;\n",
              "      --fill-color: #1967D2;\n",
              "      --hover-bg-color: #E2EBFA;\n",
              "      --hover-fill-color: #174EA6;\n",
              "      --disabled-fill-color: #AAA;\n",
              "      --disabled-bg-color: #DDD;\n",
              "  }\n",
              "\n",
              "  [theme=dark] .colab-df-quickchart {\n",
              "      --bg-color: #3B4455;\n",
              "      --fill-color: #D2E3FC;\n",
              "      --hover-bg-color: #434B5C;\n",
              "      --hover-fill-color: #FFFFFF;\n",
              "      --disabled-bg-color: #3B4455;\n",
              "      --disabled-fill-color: #666;\n",
              "  }\n",
              "\n",
              "  .colab-df-quickchart {\n",
              "    background-color: var(--bg-color);\n",
              "    border: none;\n",
              "    border-radius: 50%;\n",
              "    cursor: pointer;\n",
              "    display: none;\n",
              "    fill: var(--fill-color);\n",
              "    height: 32px;\n",
              "    padding: 0;\n",
              "    width: 32px;\n",
              "  }\n",
              "\n",
              "  .colab-df-quickchart:hover {\n",
              "    background-color: var(--hover-bg-color);\n",
              "    box-shadow: 0 1px 2px rgba(60, 64, 67, 0.3), 0 1px 3px 1px rgba(60, 64, 67, 0.15);\n",
              "    fill: var(--button-hover-fill-color);\n",
              "  }\n",
              "\n",
              "  .colab-df-quickchart-complete:disabled,\n",
              "  .colab-df-quickchart-complete:disabled:hover {\n",
              "    background-color: var(--disabled-bg-color);\n",
              "    fill: var(--disabled-fill-color);\n",
              "    box-shadow: none;\n",
              "  }\n",
              "\n",
              "  .colab-df-spinner {\n",
              "    border: 2px solid var(--fill-color);\n",
              "    border-color: transparent;\n",
              "    border-bottom-color: var(--fill-color);\n",
              "    animation:\n",
              "      spin 1s steps(1) infinite;\n",
              "  }\n",
              "\n",
              "  @keyframes spin {\n",
              "    0% {\n",
              "      border-color: transparent;\n",
              "      border-bottom-color: var(--fill-color);\n",
              "      border-left-color: var(--fill-color);\n",
              "    }\n",
              "    20% {\n",
              "      border-color: transparent;\n",
              "      border-left-color: var(--fill-color);\n",
              "      border-top-color: var(--fill-color);\n",
              "    }\n",
              "    30% {\n",
              "      border-color: transparent;\n",
              "      border-left-color: var(--fill-color);\n",
              "      border-top-color: var(--fill-color);\n",
              "      border-right-color: var(--fill-color);\n",
              "    }\n",
              "    40% {\n",
              "      border-color: transparent;\n",
              "      border-right-color: var(--fill-color);\n",
              "      border-top-color: var(--fill-color);\n",
              "    }\n",
              "    60% {\n",
              "      border-color: transparent;\n",
              "      border-right-color: var(--fill-color);\n",
              "    }\n",
              "    80% {\n",
              "      border-color: transparent;\n",
              "      border-right-color: var(--fill-color);\n",
              "      border-bottom-color: var(--fill-color);\n",
              "    }\n",
              "    90% {\n",
              "      border-color: transparent;\n",
              "      border-bottom-color: var(--fill-color);\n",
              "    }\n",
              "  }\n",
              "</style>\n",
              "\n",
              "  <script>\n",
              "    async function quickchart(key) {\n",
              "      const quickchartButtonEl =\n",
              "        document.querySelector('#' + key + ' button');\n",
              "      quickchartButtonEl.disabled = true;  // To prevent multiple clicks.\n",
              "      quickchartButtonEl.classList.add('colab-df-spinner');\n",
              "      try {\n",
              "        const charts = await google.colab.kernel.invokeFunction(\n",
              "            'suggestCharts', [key], {});\n",
              "      } catch (error) {\n",
              "        console.error('Error during call to suggestCharts:', error);\n",
              "      }\n",
              "      quickchartButtonEl.classList.remove('colab-df-spinner');\n",
              "      quickchartButtonEl.classList.add('colab-df-quickchart-complete');\n",
              "    }\n",
              "    (() => {\n",
              "      let quickchartButtonEl =\n",
              "        document.querySelector('#df-3e9deee1-710b-4d8d-ab1a-d892458c3777 button');\n",
              "      quickchartButtonEl.style.display =\n",
              "        google.colab.kernel.accessAllowed ? 'block' : 'none';\n",
              "    })();\n",
              "  </script>\n",
              "</div>\n",
              "\n",
              "    </div>\n",
              "  </div>\n"
            ],
            "application/vnd.google.colaboratory.intrinsic+json": {
              "type": "dataframe",
              "summary": "{\n  \"name\": \"# Pake binning, semacam pengelompokan, cari information value di EDA\",\n  \"rows\": 5,\n  \"fields\": [\n    {\n      \"column\": \"age\",\n      \"properties\": {\n        \"dtype\": \"number\",\n        \"std\": 10,\n        \"min\": 33,\n        \"max\": 58,\n        \"num_unique_values\": 4,\n        \"samples\": [\n          44,\n          47,\n          58\n        ],\n        \"semantic_type\": \"\",\n        \"description\": \"\"\n      }\n    },\n    {\n      \"column\": \"job\",\n      \"properties\": {\n        \"dtype\": \"string\",\n        \"num_unique_values\": 5,\n        \"samples\": [\n          \"technician\",\n          \"unknown\",\n          \"entrepreneur\"\n        ],\n        \"semantic_type\": \"\",\n        \"description\": \"\"\n      }\n    },\n    {\n      \"column\": \"marital\",\n      \"properties\": {\n        \"dtype\": \"category\",\n        \"num_unique_values\": 2,\n        \"samples\": [\n          \"single\",\n          \"married\"\n        ],\n        \"semantic_type\": \"\",\n        \"description\": \"\"\n      }\n    },\n    {\n      \"column\": \"education\",\n      \"properties\": {\n        \"dtype\": \"string\",\n        \"num_unique_values\": 3,\n        \"samples\": [\n          \"tertiary\",\n          \"secondary\"\n        ],\n        \"semantic_type\": \"\",\n        \"description\": \"\"\n      }\n    },\n    {\n      \"column\": \"default\",\n      \"properties\": {\n        \"dtype\": \"category\",\n        \"num_unique_values\": 1,\n        \"samples\": [\n          \"no\"\n        ],\n        \"semantic_type\": \"\",\n        \"description\": \"\"\n      }\n    },\n    {\n      \"column\": \"balance\",\n      \"properties\": {\n        \"dtype\": \"number\",\n        \"std\": 1018,\n        \"min\": 1,\n        \"max\": 2143,\n        \"num_unique_values\": 5,\n        \"samples\": [\n          29\n        ],\n        \"semantic_type\": \"\",\n        \"description\": \"\"\n      }\n    },\n    {\n      \"column\": \"housing\",\n      \"properties\": {\n        \"dtype\": \"category\",\n        \"num_unique_values\": 2,\n        \"samples\": [\n          \"no\"\n        ],\n        \"semantic_type\": \"\",\n        \"description\": \"\"\n      }\n    },\n    {\n      \"column\": \"loan\",\n      \"properties\": {\n        \"dtype\": \"category\",\n        \"num_unique_values\": 2,\n        \"samples\": [\n          \"yes\"\n        ],\n        \"semantic_type\": \"\",\n        \"description\": \"\"\n      }\n    },\n    {\n      \"column\": \"contact\",\n      \"properties\": {\n        \"dtype\": \"category\",\n        \"num_unique_values\": 1,\n        \"samples\": [\n          \"unknown\"\n        ],\n        \"semantic_type\": \"\",\n        \"description\": \"\"\n      }\n    },\n    {\n      \"column\": \"day\",\n      \"properties\": {\n        \"dtype\": \"number\",\n        \"std\": 0,\n        \"min\": 5,\n        \"max\": 5,\n        \"num_unique_values\": 1,\n        \"samples\": [\n          5\n        ],\n        \"semantic_type\": \"\",\n        \"description\": \"\"\n      }\n    },\n    {\n      \"column\": \"month\",\n      \"properties\": {\n        \"dtype\": \"category\",\n        \"num_unique_values\": 1,\n        \"samples\": [\n          \"may\"\n        ],\n        \"semantic_type\": \"\",\n        \"description\": \"\"\n      }\n    },\n    {\n      \"column\": \"duration\",\n      \"properties\": {\n        \"dtype\": \"number\",\n        \"std\": 76,\n        \"min\": 76,\n        \"max\": 261,\n        \"num_unique_values\": 5,\n        \"samples\": [\n          151\n        ],\n        \"semantic_type\": \"\",\n        \"description\": \"\"\n      }\n    },\n    {\n      \"column\": \"campaign\",\n      \"properties\": {\n        \"dtype\": \"number\",\n        \"std\": 0,\n        \"min\": 1,\n        \"max\": 1,\n        \"num_unique_values\": 1,\n        \"samples\": [\n          1\n        ],\n        \"semantic_type\": \"\",\n        \"description\": \"\"\n      }\n    },\n    {\n      \"column\": \"pdays\",\n      \"properties\": {\n        \"dtype\": \"number\",\n        \"std\": 0,\n        \"min\": -1,\n        \"max\": -1,\n        \"num_unique_values\": 1,\n        \"samples\": [\n          -1\n        ],\n        \"semantic_type\": \"\",\n        \"description\": \"\"\n      }\n    },\n    {\n      \"column\": \"previous\",\n      \"properties\": {\n        \"dtype\": \"number\",\n        \"std\": 0,\n        \"min\": 0,\n        \"max\": 0,\n        \"num_unique_values\": 1,\n        \"samples\": [\n          0\n        ],\n        \"semantic_type\": \"\",\n        \"description\": \"\"\n      }\n    },\n    {\n      \"column\": \"poutcome\",\n      \"properties\": {\n        \"dtype\": \"category\",\n        \"num_unique_values\": 1,\n        \"samples\": [\n          \"unknown\"\n        ],\n        \"semantic_type\": \"\",\n        \"description\": \"\"\n      }\n    },\n    {\n      \"column\": \"y\",\n      \"properties\": {\n        \"dtype\": \"category\",\n        \"num_unique_values\": 1,\n        \"samples\": [\n          \"no\"\n        ],\n        \"semantic_type\": \"\",\n        \"description\": \"\"\n      }\n    }\n  ]\n}"
            }
          },
          "metadata": {},
          "execution_count": 3
        }
      ],
      "source": [
        "import pandas as pd\n",
        "\n",
        "# Load the dataset\n",
        "df = pd.read_csv('banking_train.csv', delimiter=';')\n",
        "\n",
        "# Display the first few rows of the dataset to understand its structure\n",
        "df.head()\n",
        "\n",
        "# Pake binning, semacam pengelompokan, cari information value di EDA. Cross Validation, IQR bisa ditambahkan nilainya agar tidak banyak membuang nilai"
      ]
    },
    {
      "cell_type": "markdown",
      "source": [
        "## **Data Information**"
      ],
      "metadata": {
        "id": "KpaNVif6PKP1"
      }
    },
    {
      "cell_type": "code",
      "source": [
        "# Display information about the dataset\n",
        "df.info()\n"
      ],
      "metadata": {
        "colab": {
          "base_uri": "https://localhost:8080/"
        },
        "id": "U66LolQrPOGB",
        "outputId": "5d49976e-4b1b-48ec-a68a-4397a89e3005"
      },
      "execution_count": null,
      "outputs": [
        {
          "output_type": "stream",
          "name": "stdout",
          "text": [
            "<class 'pandas.core.frame.DataFrame'>\n",
            "RangeIndex: 45211 entries, 0 to 45210\n",
            "Data columns (total 17 columns):\n",
            " #   Column     Non-Null Count  Dtype \n",
            "---  ------     --------------  ----- \n",
            " 0   age        45211 non-null  int64 \n",
            " 1   job        45211 non-null  object\n",
            " 2   marital    45211 non-null  object\n",
            " 3   education  45211 non-null  object\n",
            " 4   default    45211 non-null  object\n",
            " 5   balance    45211 non-null  int64 \n",
            " 6   housing    45211 non-null  object\n",
            " 7   loan       45211 non-null  object\n",
            " 8   contact    45211 non-null  object\n",
            " 9   day        45211 non-null  int64 \n",
            " 10  month      45211 non-null  object\n",
            " 11  duration   45211 non-null  int64 \n",
            " 12  campaign   45211 non-null  int64 \n",
            " 13  pdays      45211 non-null  int64 \n",
            " 14  previous   45211 non-null  int64 \n",
            " 15  poutcome   45211 non-null  object\n",
            " 16  y          45211 non-null  object\n",
            "dtypes: int64(7), object(10)\n",
            "memory usage: 5.9+ MB\n"
          ]
        }
      ]
    },
    {
      "cell_type": "markdown",
      "source": [
        "Transformasi Type Data"
      ],
      "metadata": {
        "id": "EBLXy-5BUgyN"
      }
    },
    {
      "cell_type": "code",
      "source": [
        "# Ubah kolom default, housing, dan loan ke tipe bool\n",
        "df['default'] = df['default'].map({'yes': True, 'no': False})\n",
        "df['housing'] = df['housing'].map({'yes': True, 'no': False})\n",
        "df['loan'] = df['loan'].map({'yes': True, 'no': False})\n",
        "\n",
        "# Ubah kolom y ke tipe bool jika berisi nilai biner\n",
        "df['y'] = df['y'].map({'yes': True, 'no': False})\n",
        "\n",
        "# Ubah kolom campaign ke tipe object\n",
        "df['campaign'] = df['campaign'].astype('object')\n",
        "\n",
        "# Tampilkan kembali informasi tentang dataset setelah perubahan tipe data\n",
        "df.info()\n"
      ],
      "metadata": {
        "colab": {
          "base_uri": "https://localhost:8080/"
        },
        "id": "EPXaOOHuUfzw",
        "outputId": "0b36f598-6205-4c13-be7c-ec05fa837f94"
      },
      "execution_count": null,
      "outputs": [
        {
          "output_type": "stream",
          "name": "stdout",
          "text": [
            "<class 'pandas.core.frame.DataFrame'>\n",
            "RangeIndex: 45211 entries, 0 to 45210\n",
            "Data columns (total 17 columns):\n",
            " #   Column     Non-Null Count  Dtype \n",
            "---  ------     --------------  ----- \n",
            " 0   age        45211 non-null  int64 \n",
            " 1   job        45211 non-null  object\n",
            " 2   marital    45211 non-null  object\n",
            " 3   education  45211 non-null  object\n",
            " 4   default    45211 non-null  bool  \n",
            " 5   balance    45211 non-null  int64 \n",
            " 6   housing    45211 non-null  bool  \n",
            " 7   loan       45211 non-null  bool  \n",
            " 8   contact    45211 non-null  object\n",
            " 9   day        45211 non-null  int64 \n",
            " 10  month      45211 non-null  object\n",
            " 11  duration   45211 non-null  int64 \n",
            " 12  campaign   45211 non-null  object\n",
            " 13  pdays      45211 non-null  int64 \n",
            " 14  previous   45211 non-null  int64 \n",
            " 15  poutcome   45211 non-null  object\n",
            " 16  y          45211 non-null  bool  \n",
            "dtypes: bool(4), int64(6), object(7)\n",
            "memory usage: 4.7+ MB\n"
          ]
        }
      ]
    },
    {
      "cell_type": "markdown",
      "source": [
        "Berikut adalah daftar perubahan tipe data beserta alasannya:\n",
        "\n",
        "1. **`default`**: Diubah dari `object` menjadi `bool`\n",
        "   - **Alasan**: Kolom ini hanya memiliki dua nilai: \"yes\" atau \"no\", yang lebih sesuai jika disimpan sebagai tipe boolean untuk mempermudah analisis dan pemrosesan.\n",
        "\n",
        "2. **`housing`**: Diubah dari `object` menjadi `bool`\n",
        "   - **Alasan**: Sama seperti kolom `default`, kolom ini hanya memiliki dua nilai: \"yes\" atau \"no\". Tipe boolean lebih efisien dalam representasi dan analisis data.\n",
        "\n",
        "3. **`loan`**: Diubah dari `object` menjadi `bool`\n",
        "   - **Alasan**: Kolom ini juga hanya memiliki dua nilai: \"yes\" atau \"no\". Dengan menggunakan tipe boolean, data lebih mudah diolah.\n",
        "\n",
        "4. **`y`**: Diubah dari `object` menjadi `bool`\n",
        "   - **Alasan**: Kolom ini merupakan label target dengan dua nilai: \"yes\" atau \"no\". Mengubahnya menjadi tipe boolean memudahkan dalam proses klasifikasi.\n",
        "\n",
        "Ini merupakan langkah sementara. Pada proses selanjutnya, pengubahan data akan dilakukan dalam rangka mengoptimalkan model machine learning. Langkah-langkah ini membantu memastikan data lebih efisien dan siap untuk tahap analisis lanjutan."
      ],
      "metadata": {
        "id": "oZBONLoh4uMb"
      }
    },
    {
      "cell_type": "markdown",
      "source": [
        "## Handle Missing Values"
      ],
      "metadata": {
        "id": "QYrT3r3OPRZD"
      }
    },
    {
      "cell_type": "code",
      "source": [
        "print(df.isna().sum())"
      ],
      "metadata": {
        "colab": {
          "base_uri": "https://localhost:8080/"
        },
        "id": "FXHZpyErPu4N",
        "outputId": "86267b32-2ec8-4a2e-c5b3-a9f0208117c6"
      },
      "execution_count": null,
      "outputs": [
        {
          "output_type": "stream",
          "name": "stdout",
          "text": [
            "age          0\n",
            "job          0\n",
            "marital      0\n",
            "education    0\n",
            "default      0\n",
            "balance      0\n",
            "housing      0\n",
            "loan         0\n",
            "contact      0\n",
            "day          0\n",
            "month        0\n",
            "duration     0\n",
            "campaign     0\n",
            "pdays        0\n",
            "previous     0\n",
            "poutcome     0\n",
            "y            0\n",
            "dtype: int64\n"
          ]
        }
      ]
    },
    {
      "cell_type": "markdown",
      "source": [
        "Untuk menangani missing values, meskipun data terlihat terisi, ada anomali di mana data kosong ternyata berupa nilai \"unknown\". Hal ini dapat dipastikan dari sumber-sumber berikut:\n",
        "\n",
        "1. Paper Ilmiah:\n",
        "   - S. Moro, P. Cortez, dan P. Rita. *A Data-Driven Approach to Predict the Success of Bank Telemarketing*. Decision Support Systems, Elsevier, 62:22-31, Juni 2014.\n",
        "   - S. Moro, R. Laureano, dan P. Cortez. *Using Data Mining for Bank Direct Marketing: An Application of the CRISP-DM Methodology*. Dalam P. Novais et al. (Eds.), Proceedings of the European Simulation and Modelling Conference - ESM'2011, pp. 117-121, Guimarães, Portugal, Oktober 2011. EUROSIS.\n",
        "\n",
        "2. Real dataset: [Bank Marketing Dataset](https://archive.ics.uci.edu/ml/datasets/Bank+Marketing#)\n",
        "\n",
        "Penanganan anomali ini penting untuk memastikan data yang digunakan dalam analisis dan model machine learning lebih akurat dan dapat diandalkan."
      ],
      "metadata": {
        "id": "ZkGCJiET5vvR"
      }
    },
    {
      "cell_type": "code",
      "source": [
        "# Melihat nilai unik\n",
        "columns_to_check = ['job', 'marital', 'education', 'default', 'housing', 'loan', 'contact', 'poutcome', 'y']\n",
        "\n",
        "unique_values = {col: df[col].unique() for col in columns_to_check}\n",
        "\n",
        "# Menampilkan hasil\n",
        "for col, values in unique_values.items():\n",
        "    print(f\"Unique values in '{col}': {values}\\n\")"
      ],
      "metadata": {
        "colab": {
          "base_uri": "https://localhost:8080/"
        },
        "id": "60-mpJnR90hB",
        "outputId": "689cdd68-b93c-4b44-ab20-f7b43f17d34b"
      },
      "execution_count": null,
      "outputs": [
        {
          "output_type": "stream",
          "name": "stdout",
          "text": [
            "Unique values in 'job': ['management' 'technician' 'entrepreneur' 'blue-collar' 'unknown'\n",
            " 'retired' 'admin.' 'services' 'self-employed' 'unemployed' 'housemaid'\n",
            " 'student']\n",
            "\n",
            "Unique values in 'marital': ['married' 'single' 'divorced']\n",
            "\n",
            "Unique values in 'education': ['tertiary' 'secondary' 'unknown' 'primary']\n",
            "\n",
            "Unique values in 'default': [False  True]\n",
            "\n",
            "Unique values in 'housing': [ True False]\n",
            "\n",
            "Unique values in 'loan': [False  True]\n",
            "\n",
            "Unique values in 'contact': ['unknown' 'cellular' 'telephone']\n",
            "\n",
            "Unique values in 'poutcome': ['unknown' 'failure' 'other' 'success']\n",
            "\n",
            "Unique values in 'y': [False  True]\n",
            "\n"
          ]
        }
      ]
    },
    {
      "cell_type": "code",
      "source": [
        "# Menghitung jumlah value 'unknown' di setiap kolom\n",
        "unknown_counts = (df == 'unknown').sum()\n",
        "print(unknown_counts)"
      ],
      "metadata": {
        "colab": {
          "base_uri": "https://localhost:8080/"
        },
        "id": "zAiQDxHbQTeE",
        "outputId": "ffb40aa6-36ef-4712-d83d-4de1ef9276d6"
      },
      "execution_count": null,
      "outputs": [
        {
          "output_type": "stream",
          "name": "stdout",
          "text": [
            "age              0\n",
            "job            288\n",
            "marital          0\n",
            "education     1857\n",
            "default          0\n",
            "balance          0\n",
            "housing          0\n",
            "loan             0\n",
            "contact      13020\n",
            "day              0\n",
            "month            0\n",
            "duration         0\n",
            "campaign         0\n",
            "pdays            0\n",
            "previous         0\n",
            "poutcome     36959\n",
            "y                0\n",
            "dtype: int64\n"
          ]
        }
      ]
    },
    {
      "cell_type": "markdown",
      "source": [
        "Dari data yang ada, kolom-kolom yang memiliki nilai \"unknown\" adalah sebagai berikut:\n",
        "\n",
        "1. **job**: 288 nilai \"unknown\"\n",
        "2. **education**: 1857 nilai \"unknown\"\n",
        "3. **contact**: 13020 nilai \"unknown\"\n",
        "4. **poutcome**: 36959 nilai \"unknown\"\n",
        "\n",
        "Ini menunjukkan bahwa meskipun data terlihat terisi, nilai \"unknown\" tersebut merupakan anomali yang perlu ditangani agar analisis dan model machine learning yang dihasilkan lebih akurat dan dapat diandalkan."
      ],
      "metadata": {
        "id": "CJ2OWYXb6FVO"
      }
    },
    {
      "cell_type": "markdown",
      "source": [
        "Penanganan yang akan dilakukan:\n",
        "\n",
        "1. **Menghapus nilai \"unknown\" pada kolom `job` dan `education`**:\n",
        "   - Menghapus baris dengan nilai \"unknown\" pada kolom ini dilakukan untuk menjaga integritas data dan mengurangi sintesis data yang berlebihan. Jumlah nilai \"unknown\" pada kolom-kolom ini tidak terlalu banyak jika dibandingkan dengan keseluruhan data. Namun, untuk memastikan keputusan yang terbaik, iterasi berulang akan dilakukan untuk menentukan mana langkah yang paling tepat dalam penanganan data ini.\n",
        "\n",
        "2. **Mengganti nilai \"unknown\" pada kolom `contact` dengan nilai modus**:\n",
        "   - Mengganti nilai \"unknown\" pada kolom ini dilakukan karena menurut penjelasan di Kaggle, kontak sebenarnya hanya dilakukan melalui cellular dan telepon saja. Oleh karena itu, kita akan mengubah nilai \"unknown\" menjadi modus dari kolom ini, yaitu salah satu dari \"cellular\" atau \"telephone\".\n",
        "\n",
        "3. **Mengganti nilai \"unknown\" pada kolom `poutcome` dengan nilai \"nonexistent\"**:\n",
        "   - Mengganti nilai \"unknown\" pada kolom ini dilakukan karena nilai \"unknown\" pada `poutcome` sesuai dengan nilai `pdays` -1, yang menandakan bahwa pelanggan belum pernah dihubungi sebelumnya. Hal ini sesuai dengan data real dan referensi dari paper ilmiah terkait.\n",
        "\n"
      ],
      "metadata": {
        "id": "f3HNwggS9eGr"
      }
    },
    {
      "cell_type": "code",
      "source": [
        "# 1. Menghapus nilai \"unknown\" pada kolom job dan education\n",
        "df = df[~df['job'].str.contains('unknown')]\n",
        "df = df[~df['education'].str.contains('unknown')]\n",
        "\n",
        "# 2. Mengganti nilai \"unknown\" pada kolom contact dengan modus\n",
        "contact_mode = df['contact'].mode()\n",
        "if len(contact_mode) > 1:\n",
        "    # Jika ada beberapa modus, pilih yang kedua\n",
        "    contact_mode = contact_mode[1]\n",
        "else:\n",
        "    contact_mode = contact_mode[0]\n",
        "\n",
        "df['contact'] = df['contact'].replace('unknown', contact_mode)\n",
        "\n",
        "# 3. Mengganti nilai \"unknown\" pada kolom poutcome dengan nilai \"nonexistent\"\n",
        "df['poutcome'] = df['poutcome'].replace('unknown', 'nonexistent')\n",
        "\n",
        "# Menampilkan hasil perubahan\n",
        "df.sample(3)"
      ],
      "metadata": {
        "colab": {
          "base_uri": "https://localhost:8080/",
          "height": 198
        },
        "id": "Y8vWu07y-vJ1",
        "outputId": "5df76eed-9ea2-4c7a-89e0-e703d5359398"
      },
      "execution_count": null,
      "outputs": [
        {
          "output_type": "execute_result",
          "data": {
            "text/plain": [
              "       age            job  marital  education  default  balance  housing  \\\n",
              "8441    37  self-employed  married   tertiary    False     1510     True   \n",
              "805     35    blue-collar  married    primary     True        0     True   \n",
              "32690   49         admin.  married  secondary    False     1096     True   \n",
              "\n",
              "        loan   contact  day month  duration campaign  pdays  previous  \\\n",
              "8441   False  cellular    3   jun        88        2     -1         0   \n",
              "805    False  cellular    7   may       292        1     -1         0   \n",
              "32690  False  cellular   17   apr       609        1    303         5   \n",
              "\n",
              "          poutcome      y  \n",
              "8441   nonexistent  False  \n",
              "805    nonexistent  False  \n",
              "32690      failure  False  "
            ],
            "text/html": [
              "\n",
              "  <div id=\"df-75703ef2-d9d9-4e91-9841-d020ba474706\" class=\"colab-df-container\">\n",
              "    <div>\n",
              "<style scoped>\n",
              "    .dataframe tbody tr th:only-of-type {\n",
              "        vertical-align: middle;\n",
              "    }\n",
              "\n",
              "    .dataframe tbody tr th {\n",
              "        vertical-align: top;\n",
              "    }\n",
              "\n",
              "    .dataframe thead th {\n",
              "        text-align: right;\n",
              "    }\n",
              "</style>\n",
              "<table border=\"1\" class=\"dataframe\">\n",
              "  <thead>\n",
              "    <tr style=\"text-align: right;\">\n",
              "      <th></th>\n",
              "      <th>age</th>\n",
              "      <th>job</th>\n",
              "      <th>marital</th>\n",
              "      <th>education</th>\n",
              "      <th>default</th>\n",
              "      <th>balance</th>\n",
              "      <th>housing</th>\n",
              "      <th>loan</th>\n",
              "      <th>contact</th>\n",
              "      <th>day</th>\n",
              "      <th>month</th>\n",
              "      <th>duration</th>\n",
              "      <th>campaign</th>\n",
              "      <th>pdays</th>\n",
              "      <th>previous</th>\n",
              "      <th>poutcome</th>\n",
              "      <th>y</th>\n",
              "    </tr>\n",
              "  </thead>\n",
              "  <tbody>\n",
              "    <tr>\n",
              "      <th>8441</th>\n",
              "      <td>37</td>\n",
              "      <td>self-employed</td>\n",
              "      <td>married</td>\n",
              "      <td>tertiary</td>\n",
              "      <td>False</td>\n",
              "      <td>1510</td>\n",
              "      <td>True</td>\n",
              "      <td>False</td>\n",
              "      <td>cellular</td>\n",
              "      <td>3</td>\n",
              "      <td>jun</td>\n",
              "      <td>88</td>\n",
              "      <td>2</td>\n",
              "      <td>-1</td>\n",
              "      <td>0</td>\n",
              "      <td>nonexistent</td>\n",
              "      <td>False</td>\n",
              "    </tr>\n",
              "    <tr>\n",
              "      <th>805</th>\n",
              "      <td>35</td>\n",
              "      <td>blue-collar</td>\n",
              "      <td>married</td>\n",
              "      <td>primary</td>\n",
              "      <td>True</td>\n",
              "      <td>0</td>\n",
              "      <td>True</td>\n",
              "      <td>False</td>\n",
              "      <td>cellular</td>\n",
              "      <td>7</td>\n",
              "      <td>may</td>\n",
              "      <td>292</td>\n",
              "      <td>1</td>\n",
              "      <td>-1</td>\n",
              "      <td>0</td>\n",
              "      <td>nonexistent</td>\n",
              "      <td>False</td>\n",
              "    </tr>\n",
              "    <tr>\n",
              "      <th>32690</th>\n",
              "      <td>49</td>\n",
              "      <td>admin.</td>\n",
              "      <td>married</td>\n",
              "      <td>secondary</td>\n",
              "      <td>False</td>\n",
              "      <td>1096</td>\n",
              "      <td>True</td>\n",
              "      <td>False</td>\n",
              "      <td>cellular</td>\n",
              "      <td>17</td>\n",
              "      <td>apr</td>\n",
              "      <td>609</td>\n",
              "      <td>1</td>\n",
              "      <td>303</td>\n",
              "      <td>5</td>\n",
              "      <td>failure</td>\n",
              "      <td>False</td>\n",
              "    </tr>\n",
              "  </tbody>\n",
              "</table>\n",
              "</div>\n",
              "    <div class=\"colab-df-buttons\">\n",
              "\n",
              "  <div class=\"colab-df-container\">\n",
              "    <button class=\"colab-df-convert\" onclick=\"convertToInteractive('df-75703ef2-d9d9-4e91-9841-d020ba474706')\"\n",
              "            title=\"Convert this dataframe to an interactive table.\"\n",
              "            style=\"display:none;\">\n",
              "\n",
              "  <svg xmlns=\"http://www.w3.org/2000/svg\" height=\"24px\" viewBox=\"0 -960 960 960\">\n",
              "    <path d=\"M120-120v-720h720v720H120Zm60-500h600v-160H180v160Zm220 220h160v-160H400v160Zm0 220h160v-160H400v160ZM180-400h160v-160H180v160Zm440 0h160v-160H620v160ZM180-180h160v-160H180v160Zm440 0h160v-160H620v160Z\"/>\n",
              "  </svg>\n",
              "    </button>\n",
              "\n",
              "  <style>\n",
              "    .colab-df-container {\n",
              "      display:flex;\n",
              "      gap: 12px;\n",
              "    }\n",
              "\n",
              "    .colab-df-convert {\n",
              "      background-color: #E8F0FE;\n",
              "      border: none;\n",
              "      border-radius: 50%;\n",
              "      cursor: pointer;\n",
              "      display: none;\n",
              "      fill: #1967D2;\n",
              "      height: 32px;\n",
              "      padding: 0 0 0 0;\n",
              "      width: 32px;\n",
              "    }\n",
              "\n",
              "    .colab-df-convert:hover {\n",
              "      background-color: #E2EBFA;\n",
              "      box-shadow: 0px 1px 2px rgba(60, 64, 67, 0.3), 0px 1px 3px 1px rgba(60, 64, 67, 0.15);\n",
              "      fill: #174EA6;\n",
              "    }\n",
              "\n",
              "    .colab-df-buttons div {\n",
              "      margin-bottom: 4px;\n",
              "    }\n",
              "\n",
              "    [theme=dark] .colab-df-convert {\n",
              "      background-color: #3B4455;\n",
              "      fill: #D2E3FC;\n",
              "    }\n",
              "\n",
              "    [theme=dark] .colab-df-convert:hover {\n",
              "      background-color: #434B5C;\n",
              "      box-shadow: 0px 1px 3px 1px rgba(0, 0, 0, 0.15);\n",
              "      filter: drop-shadow(0px 1px 2px rgba(0, 0, 0, 0.3));\n",
              "      fill: #FFFFFF;\n",
              "    }\n",
              "  </style>\n",
              "\n",
              "    <script>\n",
              "      const buttonEl =\n",
              "        document.querySelector('#df-75703ef2-d9d9-4e91-9841-d020ba474706 button.colab-df-convert');\n",
              "      buttonEl.style.display =\n",
              "        google.colab.kernel.accessAllowed ? 'block' : 'none';\n",
              "\n",
              "      async function convertToInteractive(key) {\n",
              "        const element = document.querySelector('#df-75703ef2-d9d9-4e91-9841-d020ba474706');\n",
              "        const dataTable =\n",
              "          await google.colab.kernel.invokeFunction('convertToInteractive',\n",
              "                                                    [key], {});\n",
              "        if (!dataTable) return;\n",
              "\n",
              "        const docLinkHtml = 'Like what you see? Visit the ' +\n",
              "          '<a target=\"_blank\" href=https://colab.research.google.com/notebooks/data_table.ipynb>data table notebook</a>'\n",
              "          + ' to learn more about interactive tables.';\n",
              "        element.innerHTML = '';\n",
              "        dataTable['output_type'] = 'display_data';\n",
              "        await google.colab.output.renderOutput(dataTable, element);\n",
              "        const docLink = document.createElement('div');\n",
              "        docLink.innerHTML = docLinkHtml;\n",
              "        element.appendChild(docLink);\n",
              "      }\n",
              "    </script>\n",
              "  </div>\n",
              "\n",
              "\n",
              "<div id=\"df-16395da7-5985-4bf1-a95b-326f6ce883c4\">\n",
              "  <button class=\"colab-df-quickchart\" onclick=\"quickchart('df-16395da7-5985-4bf1-a95b-326f6ce883c4')\"\n",
              "            title=\"Suggest charts\"\n",
              "            style=\"display:none;\">\n",
              "\n",
              "<svg xmlns=\"http://www.w3.org/2000/svg\" height=\"24px\"viewBox=\"0 0 24 24\"\n",
              "     width=\"24px\">\n",
              "    <g>\n",
              "        <path d=\"M19 3H5c-1.1 0-2 .9-2 2v14c0 1.1.9 2 2 2h14c1.1 0 2-.9 2-2V5c0-1.1-.9-2-2-2zM9 17H7v-7h2v7zm4 0h-2V7h2v10zm4 0h-2v-4h2v4z\"/>\n",
              "    </g>\n",
              "</svg>\n",
              "  </button>\n",
              "\n",
              "<style>\n",
              "  .colab-df-quickchart {\n",
              "      --bg-color: #E8F0FE;\n",
              "      --fill-color: #1967D2;\n",
              "      --hover-bg-color: #E2EBFA;\n",
              "      --hover-fill-color: #174EA6;\n",
              "      --disabled-fill-color: #AAA;\n",
              "      --disabled-bg-color: #DDD;\n",
              "  }\n",
              "\n",
              "  [theme=dark] .colab-df-quickchart {\n",
              "      --bg-color: #3B4455;\n",
              "      --fill-color: #D2E3FC;\n",
              "      --hover-bg-color: #434B5C;\n",
              "      --hover-fill-color: #FFFFFF;\n",
              "      --disabled-bg-color: #3B4455;\n",
              "      --disabled-fill-color: #666;\n",
              "  }\n",
              "\n",
              "  .colab-df-quickchart {\n",
              "    background-color: var(--bg-color);\n",
              "    border: none;\n",
              "    border-radius: 50%;\n",
              "    cursor: pointer;\n",
              "    display: none;\n",
              "    fill: var(--fill-color);\n",
              "    height: 32px;\n",
              "    padding: 0;\n",
              "    width: 32px;\n",
              "  }\n",
              "\n",
              "  .colab-df-quickchart:hover {\n",
              "    background-color: var(--hover-bg-color);\n",
              "    box-shadow: 0 1px 2px rgba(60, 64, 67, 0.3), 0 1px 3px 1px rgba(60, 64, 67, 0.15);\n",
              "    fill: var(--button-hover-fill-color);\n",
              "  }\n",
              "\n",
              "  .colab-df-quickchart-complete:disabled,\n",
              "  .colab-df-quickchart-complete:disabled:hover {\n",
              "    background-color: var(--disabled-bg-color);\n",
              "    fill: var(--disabled-fill-color);\n",
              "    box-shadow: none;\n",
              "  }\n",
              "\n",
              "  .colab-df-spinner {\n",
              "    border: 2px solid var(--fill-color);\n",
              "    border-color: transparent;\n",
              "    border-bottom-color: var(--fill-color);\n",
              "    animation:\n",
              "      spin 1s steps(1) infinite;\n",
              "  }\n",
              "\n",
              "  @keyframes spin {\n",
              "    0% {\n",
              "      border-color: transparent;\n",
              "      border-bottom-color: var(--fill-color);\n",
              "      border-left-color: var(--fill-color);\n",
              "    }\n",
              "    20% {\n",
              "      border-color: transparent;\n",
              "      border-left-color: var(--fill-color);\n",
              "      border-top-color: var(--fill-color);\n",
              "    }\n",
              "    30% {\n",
              "      border-color: transparent;\n",
              "      border-left-color: var(--fill-color);\n",
              "      border-top-color: var(--fill-color);\n",
              "      border-right-color: var(--fill-color);\n",
              "    }\n",
              "    40% {\n",
              "      border-color: transparent;\n",
              "      border-right-color: var(--fill-color);\n",
              "      border-top-color: var(--fill-color);\n",
              "    }\n",
              "    60% {\n",
              "      border-color: transparent;\n",
              "      border-right-color: var(--fill-color);\n",
              "    }\n",
              "    80% {\n",
              "      border-color: transparent;\n",
              "      border-right-color: var(--fill-color);\n",
              "      border-bottom-color: var(--fill-color);\n",
              "    }\n",
              "    90% {\n",
              "      border-color: transparent;\n",
              "      border-bottom-color: var(--fill-color);\n",
              "    }\n",
              "  }\n",
              "</style>\n",
              "\n",
              "  <script>\n",
              "    async function quickchart(key) {\n",
              "      const quickchartButtonEl =\n",
              "        document.querySelector('#' + key + ' button');\n",
              "      quickchartButtonEl.disabled = true;  // To prevent multiple clicks.\n",
              "      quickchartButtonEl.classList.add('colab-df-spinner');\n",
              "      try {\n",
              "        const charts = await google.colab.kernel.invokeFunction(\n",
              "            'suggestCharts', [key], {});\n",
              "      } catch (error) {\n",
              "        console.error('Error during call to suggestCharts:', error);\n",
              "      }\n",
              "      quickchartButtonEl.classList.remove('colab-df-spinner');\n",
              "      quickchartButtonEl.classList.add('colab-df-quickchart-complete');\n",
              "    }\n",
              "    (() => {\n",
              "      let quickchartButtonEl =\n",
              "        document.querySelector('#df-16395da7-5985-4bf1-a95b-326f6ce883c4 button');\n",
              "      quickchartButtonEl.style.display =\n",
              "        google.colab.kernel.accessAllowed ? 'block' : 'none';\n",
              "    })();\n",
              "  </script>\n",
              "</div>\n",
              "\n",
              "    </div>\n",
              "  </div>\n"
            ],
            "application/vnd.google.colaboratory.intrinsic+json": {
              "type": "dataframe",
              "repr_error": "0"
            }
          },
          "metadata": {},
          "execution_count": 9
        }
      ]
    },
    {
      "cell_type": "code",
      "source": [
        "# Mari lihat kembali hasilnya\n",
        "# Menghitung jumlah value 'unknown' di setiap kolom\n",
        "unknown_counts = (df == 'unknown').sum()\n",
        "print(unknown_counts)"
      ],
      "metadata": {
        "colab": {
          "base_uri": "https://localhost:8080/"
        },
        "id": "sAQHs7ZU_gkk",
        "outputId": "5b65a867-c7f4-4c5f-8e86-1a2867a984ad"
      },
      "execution_count": null,
      "outputs": [
        {
          "output_type": "stream",
          "name": "stdout",
          "text": [
            "age          0\n",
            "job          0\n",
            "marital      0\n",
            "education    0\n",
            "default      0\n",
            "balance      0\n",
            "housing      0\n",
            "loan         0\n",
            "contact      0\n",
            "day          0\n",
            "month        0\n",
            "duration     0\n",
            "campaign     0\n",
            "pdays        0\n",
            "previous     0\n",
            "poutcome     0\n",
            "y            0\n",
            "dtype: int64\n"
          ]
        }
      ]
    },
    {
      "cell_type": "markdown",
      "source": [
        "## Handle Duplicated Data"
      ],
      "metadata": {
        "id": "QZaf_daiQsxf"
      }
    },
    {
      "cell_type": "code",
      "source": [
        "# Check for duplicated rows\n",
        "duplicates = df.duplicated().sum()\n",
        "print(f'Duplicated rows: {duplicates}')"
      ],
      "metadata": {
        "colab": {
          "base_uri": "https://localhost:8080/"
        },
        "id": "zS44EN3pQYNI",
        "outputId": "0652a374-a315-41b6-efbb-9011cce54df5"
      },
      "execution_count": null,
      "outputs": [
        {
          "output_type": "stream",
          "name": "stdout",
          "text": [
            "Duplicated rows: 0\n"
          ]
        }
      ]
    },
    {
      "cell_type": "markdown",
      "source": [
        "Tidak ada baris duplikat dalam dataset ini. Kami akan melanjutkan ke tahap berikutnya."
      ],
      "metadata": {
        "id": "RZrtwjUY_4j_"
      }
    },
    {
      "cell_type": "markdown",
      "source": [
        "## **Check for Negative and Zero Values**"
      ],
      "metadata": {
        "id": "Fat2BShtQ3bf"
      }
    },
    {
      "cell_type": "markdown",
      "source": [
        "### Negative Values"
      ],
      "metadata": {
        "id": "ZZCJfIfiDE2d"
      }
    },
    {
      "cell_type": "code",
      "source": [
        "# Memeriksa nilai negatif di setiap kolom numerik\n",
        "negative_counts = (df.select_dtypes(include=['number']) < 0).sum()\n",
        "print(f'Jumlah nilai negatif di setiap kolom numerik:\\n{negative_counts}')\n"
      ],
      "metadata": {
        "colab": {
          "base_uri": "https://localhost:8080/"
        },
        "id": "t7M5cKRAQmjn",
        "outputId": "a9b6d606-7631-4644-fb96-c7b88b8364a4"
      },
      "execution_count": null,
      "outputs": [
        {
          "output_type": "stream",
          "name": "stdout",
          "text": [
            "Jumlah nilai negatif di setiap kolom numerik:\n",
            "age             0\n",
            "balance      3634\n",
            "day             0\n",
            "duration        0\n",
            "pdays       35281\n",
            "previous        0\n",
            "dtype: int64\n"
          ]
        }
      ]
    },
    {
      "cell_type": "code",
      "source": [
        "# Menampilkan baris dengan nilai negatif pada kolom 'balance'\n",
        "negative_balance_rows = df[df['balance'] < 0]\n",
        "\n",
        "negative_balance_rows.sample(3)"
      ],
      "metadata": {
        "colab": {
          "base_uri": "https://localhost:8080/",
          "height": 163
        },
        "id": "PeOiSdF1BJSZ",
        "outputId": "197559ec-7a16-4464-dc90-a2a16e292568"
      },
      "execution_count": null,
      "outputs": [
        {
          "output_type": "execute_result",
          "data": {
            "text/plain": [
              "       age         job  marital  education  default  balance  housing   loan  \\\n",
              "12571   47  technician  married  secondary    False     -149    False   True   \n",
              "34879   35      admin.  married  secondary    False     -244     True   True   \n",
              "36850   33      admin.   single  secondary    False      -15    False  False   \n",
              "\n",
              "         contact  day month  duration campaign  pdays  previous     poutcome  \\\n",
              "12571   cellular    3   jul       504        1     -1         0  nonexistent   \n",
              "34879   cellular    6   may       118        1     -1         0  nonexistent   \n",
              "36850  telephone   12   may       326        3    350         2      failure   \n",
              "\n",
              "           y  \n",
              "12571  False  \n",
              "34879  False  \n",
              "36850  False  "
            ],
            "text/html": [
              "\n",
              "  <div id=\"df-91a7638c-fc59-4790-9c8d-50748f593e39\" class=\"colab-df-container\">\n",
              "    <div>\n",
              "<style scoped>\n",
              "    .dataframe tbody tr th:only-of-type {\n",
              "        vertical-align: middle;\n",
              "    }\n",
              "\n",
              "    .dataframe tbody tr th {\n",
              "        vertical-align: top;\n",
              "    }\n",
              "\n",
              "    .dataframe thead th {\n",
              "        text-align: right;\n",
              "    }\n",
              "</style>\n",
              "<table border=\"1\" class=\"dataframe\">\n",
              "  <thead>\n",
              "    <tr style=\"text-align: right;\">\n",
              "      <th></th>\n",
              "      <th>age</th>\n",
              "      <th>job</th>\n",
              "      <th>marital</th>\n",
              "      <th>education</th>\n",
              "      <th>default</th>\n",
              "      <th>balance</th>\n",
              "      <th>housing</th>\n",
              "      <th>loan</th>\n",
              "      <th>contact</th>\n",
              "      <th>day</th>\n",
              "      <th>month</th>\n",
              "      <th>duration</th>\n",
              "      <th>campaign</th>\n",
              "      <th>pdays</th>\n",
              "      <th>previous</th>\n",
              "      <th>poutcome</th>\n",
              "      <th>y</th>\n",
              "    </tr>\n",
              "  </thead>\n",
              "  <tbody>\n",
              "    <tr>\n",
              "      <th>12571</th>\n",
              "      <td>47</td>\n",
              "      <td>technician</td>\n",
              "      <td>married</td>\n",
              "      <td>secondary</td>\n",
              "      <td>False</td>\n",
              "      <td>-149</td>\n",
              "      <td>False</td>\n",
              "      <td>True</td>\n",
              "      <td>cellular</td>\n",
              "      <td>3</td>\n",
              "      <td>jul</td>\n",
              "      <td>504</td>\n",
              "      <td>1</td>\n",
              "      <td>-1</td>\n",
              "      <td>0</td>\n",
              "      <td>nonexistent</td>\n",
              "      <td>False</td>\n",
              "    </tr>\n",
              "    <tr>\n",
              "      <th>34879</th>\n",
              "      <td>35</td>\n",
              "      <td>admin.</td>\n",
              "      <td>married</td>\n",
              "      <td>secondary</td>\n",
              "      <td>False</td>\n",
              "      <td>-244</td>\n",
              "      <td>True</td>\n",
              "      <td>True</td>\n",
              "      <td>cellular</td>\n",
              "      <td>6</td>\n",
              "      <td>may</td>\n",
              "      <td>118</td>\n",
              "      <td>1</td>\n",
              "      <td>-1</td>\n",
              "      <td>0</td>\n",
              "      <td>nonexistent</td>\n",
              "      <td>False</td>\n",
              "    </tr>\n",
              "    <tr>\n",
              "      <th>36850</th>\n",
              "      <td>33</td>\n",
              "      <td>admin.</td>\n",
              "      <td>single</td>\n",
              "      <td>secondary</td>\n",
              "      <td>False</td>\n",
              "      <td>-15</td>\n",
              "      <td>False</td>\n",
              "      <td>False</td>\n",
              "      <td>telephone</td>\n",
              "      <td>12</td>\n",
              "      <td>may</td>\n",
              "      <td>326</td>\n",
              "      <td>3</td>\n",
              "      <td>350</td>\n",
              "      <td>2</td>\n",
              "      <td>failure</td>\n",
              "      <td>False</td>\n",
              "    </tr>\n",
              "  </tbody>\n",
              "</table>\n",
              "</div>\n",
              "    <div class=\"colab-df-buttons\">\n",
              "\n",
              "  <div class=\"colab-df-container\">\n",
              "    <button class=\"colab-df-convert\" onclick=\"convertToInteractive('df-91a7638c-fc59-4790-9c8d-50748f593e39')\"\n",
              "            title=\"Convert this dataframe to an interactive table.\"\n",
              "            style=\"display:none;\">\n",
              "\n",
              "  <svg xmlns=\"http://www.w3.org/2000/svg\" height=\"24px\" viewBox=\"0 -960 960 960\">\n",
              "    <path d=\"M120-120v-720h720v720H120Zm60-500h600v-160H180v160Zm220 220h160v-160H400v160Zm0 220h160v-160H400v160ZM180-400h160v-160H180v160Zm440 0h160v-160H620v160ZM180-180h160v-160H180v160Zm440 0h160v-160H620v160Z\"/>\n",
              "  </svg>\n",
              "    </button>\n",
              "\n",
              "  <style>\n",
              "    .colab-df-container {\n",
              "      display:flex;\n",
              "      gap: 12px;\n",
              "    }\n",
              "\n",
              "    .colab-df-convert {\n",
              "      background-color: #E8F0FE;\n",
              "      border: none;\n",
              "      border-radius: 50%;\n",
              "      cursor: pointer;\n",
              "      display: none;\n",
              "      fill: #1967D2;\n",
              "      height: 32px;\n",
              "      padding: 0 0 0 0;\n",
              "      width: 32px;\n",
              "    }\n",
              "\n",
              "    .colab-df-convert:hover {\n",
              "      background-color: #E2EBFA;\n",
              "      box-shadow: 0px 1px 2px rgba(60, 64, 67, 0.3), 0px 1px 3px 1px rgba(60, 64, 67, 0.15);\n",
              "      fill: #174EA6;\n",
              "    }\n",
              "\n",
              "    .colab-df-buttons div {\n",
              "      margin-bottom: 4px;\n",
              "    }\n",
              "\n",
              "    [theme=dark] .colab-df-convert {\n",
              "      background-color: #3B4455;\n",
              "      fill: #D2E3FC;\n",
              "    }\n",
              "\n",
              "    [theme=dark] .colab-df-convert:hover {\n",
              "      background-color: #434B5C;\n",
              "      box-shadow: 0px 1px 3px 1px rgba(0, 0, 0, 0.15);\n",
              "      filter: drop-shadow(0px 1px 2px rgba(0, 0, 0, 0.3));\n",
              "      fill: #FFFFFF;\n",
              "    }\n",
              "  </style>\n",
              "\n",
              "    <script>\n",
              "      const buttonEl =\n",
              "        document.querySelector('#df-91a7638c-fc59-4790-9c8d-50748f593e39 button.colab-df-convert');\n",
              "      buttonEl.style.display =\n",
              "        google.colab.kernel.accessAllowed ? 'block' : 'none';\n",
              "\n",
              "      async function convertToInteractive(key) {\n",
              "        const element = document.querySelector('#df-91a7638c-fc59-4790-9c8d-50748f593e39');\n",
              "        const dataTable =\n",
              "          await google.colab.kernel.invokeFunction('convertToInteractive',\n",
              "                                                    [key], {});\n",
              "        if (!dataTable) return;\n",
              "\n",
              "        const docLinkHtml = 'Like what you see? Visit the ' +\n",
              "          '<a target=\"_blank\" href=https://colab.research.google.com/notebooks/data_table.ipynb>data table notebook</a>'\n",
              "          + ' to learn more about interactive tables.';\n",
              "        element.innerHTML = '';\n",
              "        dataTable['output_type'] = 'display_data';\n",
              "        await google.colab.output.renderOutput(dataTable, element);\n",
              "        const docLink = document.createElement('div');\n",
              "        docLink.innerHTML = docLinkHtml;\n",
              "        element.appendChild(docLink);\n",
              "      }\n",
              "    </script>\n",
              "  </div>\n",
              "\n",
              "\n",
              "<div id=\"df-d677c9fc-9f50-473d-8429-0ba4a5301b2e\">\n",
              "  <button class=\"colab-df-quickchart\" onclick=\"quickchart('df-d677c9fc-9f50-473d-8429-0ba4a5301b2e')\"\n",
              "            title=\"Suggest charts\"\n",
              "            style=\"display:none;\">\n",
              "\n",
              "<svg xmlns=\"http://www.w3.org/2000/svg\" height=\"24px\"viewBox=\"0 0 24 24\"\n",
              "     width=\"24px\">\n",
              "    <g>\n",
              "        <path d=\"M19 3H5c-1.1 0-2 .9-2 2v14c0 1.1.9 2 2 2h14c1.1 0 2-.9 2-2V5c0-1.1-.9-2-2-2zM9 17H7v-7h2v7zm4 0h-2V7h2v10zm4 0h-2v-4h2v4z\"/>\n",
              "    </g>\n",
              "</svg>\n",
              "  </button>\n",
              "\n",
              "<style>\n",
              "  .colab-df-quickchart {\n",
              "      --bg-color: #E8F0FE;\n",
              "      --fill-color: #1967D2;\n",
              "      --hover-bg-color: #E2EBFA;\n",
              "      --hover-fill-color: #174EA6;\n",
              "      --disabled-fill-color: #AAA;\n",
              "      --disabled-bg-color: #DDD;\n",
              "  }\n",
              "\n",
              "  [theme=dark] .colab-df-quickchart {\n",
              "      --bg-color: #3B4455;\n",
              "      --fill-color: #D2E3FC;\n",
              "      --hover-bg-color: #434B5C;\n",
              "      --hover-fill-color: #FFFFFF;\n",
              "      --disabled-bg-color: #3B4455;\n",
              "      --disabled-fill-color: #666;\n",
              "  }\n",
              "\n",
              "  .colab-df-quickchart {\n",
              "    background-color: var(--bg-color);\n",
              "    border: none;\n",
              "    border-radius: 50%;\n",
              "    cursor: pointer;\n",
              "    display: none;\n",
              "    fill: var(--fill-color);\n",
              "    height: 32px;\n",
              "    padding: 0;\n",
              "    width: 32px;\n",
              "  }\n",
              "\n",
              "  .colab-df-quickchart:hover {\n",
              "    background-color: var(--hover-bg-color);\n",
              "    box-shadow: 0 1px 2px rgba(60, 64, 67, 0.3), 0 1px 3px 1px rgba(60, 64, 67, 0.15);\n",
              "    fill: var(--button-hover-fill-color);\n",
              "  }\n",
              "\n",
              "  .colab-df-quickchart-complete:disabled,\n",
              "  .colab-df-quickchart-complete:disabled:hover {\n",
              "    background-color: var(--disabled-bg-color);\n",
              "    fill: var(--disabled-fill-color);\n",
              "    box-shadow: none;\n",
              "  }\n",
              "\n",
              "  .colab-df-spinner {\n",
              "    border: 2px solid var(--fill-color);\n",
              "    border-color: transparent;\n",
              "    border-bottom-color: var(--fill-color);\n",
              "    animation:\n",
              "      spin 1s steps(1) infinite;\n",
              "  }\n",
              "\n",
              "  @keyframes spin {\n",
              "    0% {\n",
              "      border-color: transparent;\n",
              "      border-bottom-color: var(--fill-color);\n",
              "      border-left-color: var(--fill-color);\n",
              "    }\n",
              "    20% {\n",
              "      border-color: transparent;\n",
              "      border-left-color: var(--fill-color);\n",
              "      border-top-color: var(--fill-color);\n",
              "    }\n",
              "    30% {\n",
              "      border-color: transparent;\n",
              "      border-left-color: var(--fill-color);\n",
              "      border-top-color: var(--fill-color);\n",
              "      border-right-color: var(--fill-color);\n",
              "    }\n",
              "    40% {\n",
              "      border-color: transparent;\n",
              "      border-right-color: var(--fill-color);\n",
              "      border-top-color: var(--fill-color);\n",
              "    }\n",
              "    60% {\n",
              "      border-color: transparent;\n",
              "      border-right-color: var(--fill-color);\n",
              "    }\n",
              "    80% {\n",
              "      border-color: transparent;\n",
              "      border-right-color: var(--fill-color);\n",
              "      border-bottom-color: var(--fill-color);\n",
              "    }\n",
              "    90% {\n",
              "      border-color: transparent;\n",
              "      border-bottom-color: var(--fill-color);\n",
              "    }\n",
              "  }\n",
              "</style>\n",
              "\n",
              "  <script>\n",
              "    async function quickchart(key) {\n",
              "      const quickchartButtonEl =\n",
              "        document.querySelector('#' + key + ' button');\n",
              "      quickchartButtonEl.disabled = true;  // To prevent multiple clicks.\n",
              "      quickchartButtonEl.classList.add('colab-df-spinner');\n",
              "      try {\n",
              "        const charts = await google.colab.kernel.invokeFunction(\n",
              "            'suggestCharts', [key], {});\n",
              "      } catch (error) {\n",
              "        console.error('Error during call to suggestCharts:', error);\n",
              "      }\n",
              "      quickchartButtonEl.classList.remove('colab-df-spinner');\n",
              "      quickchartButtonEl.classList.add('colab-df-quickchart-complete');\n",
              "    }\n",
              "    (() => {\n",
              "      let quickchartButtonEl =\n",
              "        document.querySelector('#df-d677c9fc-9f50-473d-8429-0ba4a5301b2e button');\n",
              "      quickchartButtonEl.style.display =\n",
              "        google.colab.kernel.accessAllowed ? 'block' : 'none';\n",
              "    })();\n",
              "  </script>\n",
              "</div>\n",
              "\n",
              "    </div>\n",
              "  </div>\n"
            ],
            "application/vnd.google.colaboratory.intrinsic+json": {
              "type": "dataframe",
              "repr_error": "0"
            }
          },
          "metadata": {},
          "execution_count": 13
        }
      ]
    },
    {
      "cell_type": "markdown",
      "source": [
        "**Penjelasan**:\n",
        "1. **Kolom `balance`**:\n",
        "   - **Penanganan**: Nilai negatif pada kolom `balance` diubah menjadi positif menggunakan fungsi `abs()`. Ini dilakukan karena nilai negatif mungkin merupakan kesalahan input, dan mengubahnya menjadi positif akan memudahkan analisis lebih lanjut. Pendekatan ini akan diiterasi lebih lanjut untuk memastikan keputusan yang tepat dalam penanganan data.\n",
        "\n",
        "2. **Kolom `pdays`**:\n",
        "   - **Penjelasan**: Nilai -1 pada kolom `pdays` menunjukkan bahwa pelanggan belum pernah dihubungi sebelumnya, sesuai dengan penjelasan di dataset real dan paper ilmiah.\n",
        "   - **Penanganan**: Nilai -1 diganti dengan 999 untuk mencocokkan dengan data real pada sumber yang telah ditemukan."
      ],
      "metadata": {
        "id": "CNc3HaisCBJx"
      }
    },
    {
      "cell_type": "code",
      "source": [
        "# Menangani nilai negatif pada kolom 'balance' dengan mengubahnya menjadi positif\n",
        "df['balance'] = df['balance'].abs()  # Mengganti nilai negatif dengan nilai positif\n",
        "\n",
        "# Menangani nilai -1 pada kolom 'pdays'\n",
        "df['pdays'] = df['pdays'].replace(-1, 999)  # Mengganti -1 dengan 999\n"
      ],
      "metadata": {
        "id": "vGQVuuXaCAve"
      },
      "execution_count": null,
      "outputs": []
    },
    {
      "cell_type": "code",
      "source": [
        "# Memeriksa nilai negatif kembali\n",
        "negative_counts = (df.select_dtypes(include=['number']) < 0).sum()\n",
        "print(f'Jumlah nilai negatif di setiap kolom numerik:\\n{negative_counts}')"
      ],
      "metadata": {
        "colab": {
          "base_uri": "https://localhost:8080/"
        },
        "id": "xfdVLBVsCakc",
        "outputId": "d45c126c-20cb-467c-f339-824b7ab2148c"
      },
      "execution_count": null,
      "outputs": [
        {
          "output_type": "stream",
          "name": "stdout",
          "text": [
            "Jumlah nilai negatif di setiap kolom numerik:\n",
            "age         0\n",
            "balance     0\n",
            "day         0\n",
            "duration    0\n",
            "pdays       0\n",
            "previous    0\n",
            "dtype: int64\n"
          ]
        }
      ]
    },
    {
      "cell_type": "markdown",
      "source": [
        "Zero Values"
      ],
      "metadata": {
        "id": "o4eFm8_HDN7b"
      }
    },
    {
      "cell_type": "code",
      "source": [
        "# Menghitung jumlah nilai 0 pada kolom numerik\n",
        "zero_counts = (df.select_dtypes(include=['number']) == 0).sum()\n",
        "\n",
        "# Menampilkan hasil\n",
        "print(f'Jumlah nilai 0 di setiap kolom numerik:\\n{zero_counts}')"
      ],
      "metadata": {
        "colab": {
          "base_uri": "https://localhost:8080/"
        },
        "id": "T5APx6wBDQsK",
        "outputId": "d912507e-ac55-47d9-a6db-dea6c7ea0c22"
      },
      "execution_count": null,
      "outputs": [
        {
          "output_type": "stream",
          "name": "stdout",
          "text": [
            "Jumlah nilai 0 di setiap kolom numerik:\n",
            "age             0\n",
            "balance      3366\n",
            "day             0\n",
            "duration        3\n",
            "pdays           0\n",
            "previous    35281\n",
            "dtype: int64\n"
          ]
        }
      ]
    },
    {
      "cell_type": "code",
      "source": [
        "# Menambahkan 1 pada semua nilai di kolom 'balance'\n",
        "df['balance'] = df['balance'] + 1"
      ],
      "metadata": {
        "id": "4iWSTcVgGA7z"
      },
      "execution_count": null,
      "outputs": []
    },
    {
      "cell_type": "code",
      "source": [
        "# Cek kembali\n",
        "zero_counts = (df.select_dtypes(include=['number']) == 0).sum()\n",
        "\n",
        "# Menampilkan hasil\n",
        "print(f'Jumlah nilai 0 di setiap kolom numerik:\\n{zero_counts}')"
      ],
      "metadata": {
        "colab": {
          "base_uri": "https://localhost:8080/"
        },
        "id": "YAOTUe9-GE3E",
        "outputId": "f4a7e42b-d35b-44ea-dcc4-2c53982fdc45"
      },
      "execution_count": null,
      "outputs": [
        {
          "output_type": "stream",
          "name": "stdout",
          "text": [
            "Jumlah nilai 0 di setiap kolom numerik:\n",
            "age             0\n",
            "balance         0\n",
            "day             0\n",
            "duration        3\n",
            "pdays           0\n",
            "previous    35281\n",
            "dtype: int64\n"
          ]
        }
      ]
    },
    {
      "cell_type": "markdown",
      "source": [
        "\n",
        "**Penjelasan**:\n",
        "- **Kolom `balance`**: Menambahkan 1 pada semua nilai untuk memastikan tidak ada nilai 0 dan untuk menjaga keadilan dalam distribusi nilai.\n",
        "- **Kolom `previous & duration`**: Diberikan catatan bahwa kolom ini akan dianalisis lebih lanjut di tahapan berikutnya.\n"
      ],
      "metadata": {
        "id": "-CZl4H0MGHaY"
      }
    },
    {
      "cell_type": "markdown",
      "source": [
        "### Describe Data"
      ],
      "metadata": {
        "id": "m4ofskW6Wutr"
      }
    },
    {
      "cell_type": "code",
      "source": [
        "# Memisahkan kolom numerik (nums) dan kategorikal (cats)\n",
        "nums = df.select_dtypes(include=['float64', 'int64', 'int8'])\n",
        "cats = df.select_dtypes(include=['object', 'bool'])"
      ],
      "metadata": {
        "id": "GiwxvVdhWKps"
      },
      "execution_count": null,
      "outputs": []
    },
    {
      "cell_type": "code",
      "source": [
        "# Describe numerical data\n",
        "nums.describe()"
      ],
      "metadata": {
        "colab": {
          "base_uri": "https://localhost:8080/",
          "height": 320
        },
        "id": "VybD362FWzSF",
        "outputId": "6100be2b-163a-4904-e7a1-e6ce7dd0da50"
      },
      "execution_count": null,
      "outputs": [
        {
          "output_type": "execute_result",
          "data": {
            "text/plain": [
              "                age        balance           day      duration         pdays  \\\n",
              "count  43193.000000   43193.000000  43193.000000  43193.000000  43193.000000   \n",
              "mean      40.764082    1408.555877     15.809414    258.323409    857.226240   \n",
              "std       10.512640    3017.708989      8.305970    258.162006    303.431026   \n",
              "min       18.000000       1.000000      1.000000      0.000000      1.000000   \n",
              "25%       33.000000     137.000000      8.000000    103.000000    999.000000   \n",
              "50%       39.000000     482.000000     16.000000    180.000000    999.000000   \n",
              "75%       48.000000    1424.000000     21.000000    318.000000    999.000000   \n",
              "max       95.000000  102128.000000     31.000000   4918.000000    999.000000   \n",
              "\n",
              "           previous  \n",
              "count  43193.000000  \n",
              "mean       0.584863  \n",
              "std        2.332672  \n",
              "min        0.000000  \n",
              "25%        0.000000  \n",
              "50%        0.000000  \n",
              "75%        0.000000  \n",
              "max      275.000000  "
            ],
            "text/html": [
              "\n",
              "  <div id=\"df-50648a1a-5440-4e4c-a1a3-015efffd3236\" class=\"colab-df-container\">\n",
              "    <div>\n",
              "<style scoped>\n",
              "    .dataframe tbody tr th:only-of-type {\n",
              "        vertical-align: middle;\n",
              "    }\n",
              "\n",
              "    .dataframe tbody tr th {\n",
              "        vertical-align: top;\n",
              "    }\n",
              "\n",
              "    .dataframe thead th {\n",
              "        text-align: right;\n",
              "    }\n",
              "</style>\n",
              "<table border=\"1\" class=\"dataframe\">\n",
              "  <thead>\n",
              "    <tr style=\"text-align: right;\">\n",
              "      <th></th>\n",
              "      <th>age</th>\n",
              "      <th>balance</th>\n",
              "      <th>day</th>\n",
              "      <th>duration</th>\n",
              "      <th>pdays</th>\n",
              "      <th>previous</th>\n",
              "    </tr>\n",
              "  </thead>\n",
              "  <tbody>\n",
              "    <tr>\n",
              "      <th>count</th>\n",
              "      <td>43193.000000</td>\n",
              "      <td>43193.000000</td>\n",
              "      <td>43193.000000</td>\n",
              "      <td>43193.000000</td>\n",
              "      <td>43193.000000</td>\n",
              "      <td>43193.000000</td>\n",
              "    </tr>\n",
              "    <tr>\n",
              "      <th>mean</th>\n",
              "      <td>40.764082</td>\n",
              "      <td>1408.555877</td>\n",
              "      <td>15.809414</td>\n",
              "      <td>258.323409</td>\n",
              "      <td>857.226240</td>\n",
              "      <td>0.584863</td>\n",
              "    </tr>\n",
              "    <tr>\n",
              "      <th>std</th>\n",
              "      <td>10.512640</td>\n",
              "      <td>3017.708989</td>\n",
              "      <td>8.305970</td>\n",
              "      <td>258.162006</td>\n",
              "      <td>303.431026</td>\n",
              "      <td>2.332672</td>\n",
              "    </tr>\n",
              "    <tr>\n",
              "      <th>min</th>\n",
              "      <td>18.000000</td>\n",
              "      <td>1.000000</td>\n",
              "      <td>1.000000</td>\n",
              "      <td>0.000000</td>\n",
              "      <td>1.000000</td>\n",
              "      <td>0.000000</td>\n",
              "    </tr>\n",
              "    <tr>\n",
              "      <th>25%</th>\n",
              "      <td>33.000000</td>\n",
              "      <td>137.000000</td>\n",
              "      <td>8.000000</td>\n",
              "      <td>103.000000</td>\n",
              "      <td>999.000000</td>\n",
              "      <td>0.000000</td>\n",
              "    </tr>\n",
              "    <tr>\n",
              "      <th>50%</th>\n",
              "      <td>39.000000</td>\n",
              "      <td>482.000000</td>\n",
              "      <td>16.000000</td>\n",
              "      <td>180.000000</td>\n",
              "      <td>999.000000</td>\n",
              "      <td>0.000000</td>\n",
              "    </tr>\n",
              "    <tr>\n",
              "      <th>75%</th>\n",
              "      <td>48.000000</td>\n",
              "      <td>1424.000000</td>\n",
              "      <td>21.000000</td>\n",
              "      <td>318.000000</td>\n",
              "      <td>999.000000</td>\n",
              "      <td>0.000000</td>\n",
              "    </tr>\n",
              "    <tr>\n",
              "      <th>max</th>\n",
              "      <td>95.000000</td>\n",
              "      <td>102128.000000</td>\n",
              "      <td>31.000000</td>\n",
              "      <td>4918.000000</td>\n",
              "      <td>999.000000</td>\n",
              "      <td>275.000000</td>\n",
              "    </tr>\n",
              "  </tbody>\n",
              "</table>\n",
              "</div>\n",
              "    <div class=\"colab-df-buttons\">\n",
              "\n",
              "  <div class=\"colab-df-container\">\n",
              "    <button class=\"colab-df-convert\" onclick=\"convertToInteractive('df-50648a1a-5440-4e4c-a1a3-015efffd3236')\"\n",
              "            title=\"Convert this dataframe to an interactive table.\"\n",
              "            style=\"display:none;\">\n",
              "\n",
              "  <svg xmlns=\"http://www.w3.org/2000/svg\" height=\"24px\" viewBox=\"0 -960 960 960\">\n",
              "    <path d=\"M120-120v-720h720v720H120Zm60-500h600v-160H180v160Zm220 220h160v-160H400v160Zm0 220h160v-160H400v160ZM180-400h160v-160H180v160Zm440 0h160v-160H620v160ZM180-180h160v-160H180v160Zm440 0h160v-160H620v160Z\"/>\n",
              "  </svg>\n",
              "    </button>\n",
              "\n",
              "  <style>\n",
              "    .colab-df-container {\n",
              "      display:flex;\n",
              "      gap: 12px;\n",
              "    }\n",
              "\n",
              "    .colab-df-convert {\n",
              "      background-color: #E8F0FE;\n",
              "      border: none;\n",
              "      border-radius: 50%;\n",
              "      cursor: pointer;\n",
              "      display: none;\n",
              "      fill: #1967D2;\n",
              "      height: 32px;\n",
              "      padding: 0 0 0 0;\n",
              "      width: 32px;\n",
              "    }\n",
              "\n",
              "    .colab-df-convert:hover {\n",
              "      background-color: #E2EBFA;\n",
              "      box-shadow: 0px 1px 2px rgba(60, 64, 67, 0.3), 0px 1px 3px 1px rgba(60, 64, 67, 0.15);\n",
              "      fill: #174EA6;\n",
              "    }\n",
              "\n",
              "    .colab-df-buttons div {\n",
              "      margin-bottom: 4px;\n",
              "    }\n",
              "\n",
              "    [theme=dark] .colab-df-convert {\n",
              "      background-color: #3B4455;\n",
              "      fill: #D2E3FC;\n",
              "    }\n",
              "\n",
              "    [theme=dark] .colab-df-convert:hover {\n",
              "      background-color: #434B5C;\n",
              "      box-shadow: 0px 1px 3px 1px rgba(0, 0, 0, 0.15);\n",
              "      filter: drop-shadow(0px 1px 2px rgba(0, 0, 0, 0.3));\n",
              "      fill: #FFFFFF;\n",
              "    }\n",
              "  </style>\n",
              "\n",
              "    <script>\n",
              "      const buttonEl =\n",
              "        document.querySelector('#df-50648a1a-5440-4e4c-a1a3-015efffd3236 button.colab-df-convert');\n",
              "      buttonEl.style.display =\n",
              "        google.colab.kernel.accessAllowed ? 'block' : 'none';\n",
              "\n",
              "      async function convertToInteractive(key) {\n",
              "        const element = document.querySelector('#df-50648a1a-5440-4e4c-a1a3-015efffd3236');\n",
              "        const dataTable =\n",
              "          await google.colab.kernel.invokeFunction('convertToInteractive',\n",
              "                                                    [key], {});\n",
              "        if (!dataTable) return;\n",
              "\n",
              "        const docLinkHtml = 'Like what you see? Visit the ' +\n",
              "          '<a target=\"_blank\" href=https://colab.research.google.com/notebooks/data_table.ipynb>data table notebook</a>'\n",
              "          + ' to learn more about interactive tables.';\n",
              "        element.innerHTML = '';\n",
              "        dataTable['output_type'] = 'display_data';\n",
              "        await google.colab.output.renderOutput(dataTable, element);\n",
              "        const docLink = document.createElement('div');\n",
              "        docLink.innerHTML = docLinkHtml;\n",
              "        element.appendChild(docLink);\n",
              "      }\n",
              "    </script>\n",
              "  </div>\n",
              "\n",
              "\n",
              "<div id=\"df-85da2b29-012b-4498-8598-239c2fed27b2\">\n",
              "  <button class=\"colab-df-quickchart\" onclick=\"quickchart('df-85da2b29-012b-4498-8598-239c2fed27b2')\"\n",
              "            title=\"Suggest charts\"\n",
              "            style=\"display:none;\">\n",
              "\n",
              "<svg xmlns=\"http://www.w3.org/2000/svg\" height=\"24px\"viewBox=\"0 0 24 24\"\n",
              "     width=\"24px\">\n",
              "    <g>\n",
              "        <path d=\"M19 3H5c-1.1 0-2 .9-2 2v14c0 1.1.9 2 2 2h14c1.1 0 2-.9 2-2V5c0-1.1-.9-2-2-2zM9 17H7v-7h2v7zm4 0h-2V7h2v10zm4 0h-2v-4h2v4z\"/>\n",
              "    </g>\n",
              "</svg>\n",
              "  </button>\n",
              "\n",
              "<style>\n",
              "  .colab-df-quickchart {\n",
              "      --bg-color: #E8F0FE;\n",
              "      --fill-color: #1967D2;\n",
              "      --hover-bg-color: #E2EBFA;\n",
              "      --hover-fill-color: #174EA6;\n",
              "      --disabled-fill-color: #AAA;\n",
              "      --disabled-bg-color: #DDD;\n",
              "  }\n",
              "\n",
              "  [theme=dark] .colab-df-quickchart {\n",
              "      --bg-color: #3B4455;\n",
              "      --fill-color: #D2E3FC;\n",
              "      --hover-bg-color: #434B5C;\n",
              "      --hover-fill-color: #FFFFFF;\n",
              "      --disabled-bg-color: #3B4455;\n",
              "      --disabled-fill-color: #666;\n",
              "  }\n",
              "\n",
              "  .colab-df-quickchart {\n",
              "    background-color: var(--bg-color);\n",
              "    border: none;\n",
              "    border-radius: 50%;\n",
              "    cursor: pointer;\n",
              "    display: none;\n",
              "    fill: var(--fill-color);\n",
              "    height: 32px;\n",
              "    padding: 0;\n",
              "    width: 32px;\n",
              "  }\n",
              "\n",
              "  .colab-df-quickchart:hover {\n",
              "    background-color: var(--hover-bg-color);\n",
              "    box-shadow: 0 1px 2px rgba(60, 64, 67, 0.3), 0 1px 3px 1px rgba(60, 64, 67, 0.15);\n",
              "    fill: var(--button-hover-fill-color);\n",
              "  }\n",
              "\n",
              "  .colab-df-quickchart-complete:disabled,\n",
              "  .colab-df-quickchart-complete:disabled:hover {\n",
              "    background-color: var(--disabled-bg-color);\n",
              "    fill: var(--disabled-fill-color);\n",
              "    box-shadow: none;\n",
              "  }\n",
              "\n",
              "  .colab-df-spinner {\n",
              "    border: 2px solid var(--fill-color);\n",
              "    border-color: transparent;\n",
              "    border-bottom-color: var(--fill-color);\n",
              "    animation:\n",
              "      spin 1s steps(1) infinite;\n",
              "  }\n",
              "\n",
              "  @keyframes spin {\n",
              "    0% {\n",
              "      border-color: transparent;\n",
              "      border-bottom-color: var(--fill-color);\n",
              "      border-left-color: var(--fill-color);\n",
              "    }\n",
              "    20% {\n",
              "      border-color: transparent;\n",
              "      border-left-color: var(--fill-color);\n",
              "      border-top-color: var(--fill-color);\n",
              "    }\n",
              "    30% {\n",
              "      border-color: transparent;\n",
              "      border-left-color: var(--fill-color);\n",
              "      border-top-color: var(--fill-color);\n",
              "      border-right-color: var(--fill-color);\n",
              "    }\n",
              "    40% {\n",
              "      border-color: transparent;\n",
              "      border-right-color: var(--fill-color);\n",
              "      border-top-color: var(--fill-color);\n",
              "    }\n",
              "    60% {\n",
              "      border-color: transparent;\n",
              "      border-right-color: var(--fill-color);\n",
              "    }\n",
              "    80% {\n",
              "      border-color: transparent;\n",
              "      border-right-color: var(--fill-color);\n",
              "      border-bottom-color: var(--fill-color);\n",
              "    }\n",
              "    90% {\n",
              "      border-color: transparent;\n",
              "      border-bottom-color: var(--fill-color);\n",
              "    }\n",
              "  }\n",
              "</style>\n",
              "\n",
              "  <script>\n",
              "    async function quickchart(key) {\n",
              "      const quickchartButtonEl =\n",
              "        document.querySelector('#' + key + ' button');\n",
              "      quickchartButtonEl.disabled = true;  // To prevent multiple clicks.\n",
              "      quickchartButtonEl.classList.add('colab-df-spinner');\n",
              "      try {\n",
              "        const charts = await google.colab.kernel.invokeFunction(\n",
              "            'suggestCharts', [key], {});\n",
              "      } catch (error) {\n",
              "        console.error('Error during call to suggestCharts:', error);\n",
              "      }\n",
              "      quickchartButtonEl.classList.remove('colab-df-spinner');\n",
              "      quickchartButtonEl.classList.add('colab-df-quickchart-complete');\n",
              "    }\n",
              "    (() => {\n",
              "      let quickchartButtonEl =\n",
              "        document.querySelector('#df-85da2b29-012b-4498-8598-239c2fed27b2 button');\n",
              "      quickchartButtonEl.style.display =\n",
              "        google.colab.kernel.accessAllowed ? 'block' : 'none';\n",
              "    })();\n",
              "  </script>\n",
              "</div>\n",
              "\n",
              "    </div>\n",
              "  </div>\n"
            ],
            "application/vnd.google.colaboratory.intrinsic+json": {
              "type": "dataframe",
              "summary": "{\n  \"name\": \"nums\",\n  \"rows\": 8,\n  \"fields\": [\n    {\n      \"column\": \"age\",\n      \"properties\": {\n        \"dtype\": \"number\",\n        \"std\": 15256.69448062877,\n        \"min\": 10.512640233214865,\n        \"max\": 43193.0,\n        \"num_unique_values\": 8,\n        \"samples\": [\n          40.76408214293983,\n          39.0,\n          43193.0\n        ],\n        \"semantic_type\": \"\",\n        \"description\": \"\"\n      }\n    },\n    {\n      \"column\": \"balance\",\n      \"properties\": {\n        \"dtype\": \"number\",\n        \"std\": 36701.61457912605,\n        \"min\": 1.0,\n        \"max\": 102128.0,\n        \"num_unique_values\": 8,\n        \"samples\": [\n          1408.555877109717,\n          482.0,\n          43193.0\n        ],\n        \"semantic_type\": \"\",\n        \"description\": \"\"\n      }\n    },\n    {\n      \"column\": \"day\",\n      \"properties\": {\n        \"dtype\": \"number\",\n        \"std\": 15265.927221697415,\n        \"min\": 1.0,\n        \"max\": 43193.0,\n        \"num_unique_values\": 8,\n        \"samples\": [\n          15.809413562382794,\n          16.0,\n          43193.0\n        ],\n        \"semantic_type\": \"\",\n        \"description\": \"\"\n      }\n    },\n    {\n      \"column\": \"duration\",\n      \"properties\": {\n        \"dtype\": \"number\",\n        \"std\": 15057.836178141884,\n        \"min\": 0.0,\n        \"max\": 43193.0,\n        \"num_unique_values\": 8,\n        \"samples\": [\n          258.32340888569905,\n          180.0,\n          43193.0\n        ],\n        \"semantic_type\": \"\",\n        \"description\": \"\"\n      }\n    },\n    {\n      \"column\": \"pdays\",\n      \"properties\": {\n        \"dtype\": \"number\",\n        \"std\": 15015.377374798574,\n        \"min\": 1.0,\n        \"max\": 43193.0,\n        \"num_unique_values\": 5,\n        \"samples\": [\n          857.2262403630218,\n          999.0,\n          303.4310260220078\n        ],\n        \"semantic_type\": \"\",\n        \"description\": \"\"\n      }\n    },\n    {\n      \"column\": \"previous\",\n      \"properties\": {\n        \"dtype\": \"number\",\n        \"std\": 15257.29706385181,\n        \"min\": 0.0,\n        \"max\": 43193.0,\n        \"num_unique_values\": 5,\n        \"samples\": [\n          0.5848632880327831,\n          275.0,\n          2.332672101202992\n        ],\n        \"semantic_type\": \"\",\n        \"description\": \"\"\n      }\n    }\n  ]\n}"
            }
          },
          "metadata": {},
          "execution_count": 20
        }
      ]
    },
    {
      "cell_type": "markdown",
      "source": [
        "\n",
        "### 1. **Kolom `age`**\n",
        "- **Rata-rata umur** adalah sekitar 40.76 tahun.\n",
        "- **Umur minimum** adalah 18 tahun dan **umur maksimum** adalah 95 tahun.\n",
        "- **Penyebaran umur** cukup luas, dengan nilai umur 25% dari data berada di sekitar 33 tahun dan 75% berada di sekitar 48 tahun. Ini menunjukkan bahwa sebagian besar pelanggan berusia antara 33 hingga 48 tahun.\n",
        "\n",
        "### 2. **Kolom `balance`**\n",
        "- **Rata-rata saldo** adalah 1408.56, tetapi dengan **standar deviasi** yang sangat besar (3017.71), menunjukkan variasi yang signifikan dalam saldo.\n",
        "- **Saldo minimum** adalah 1 (Ingat ini telah dimodifikasi, nilai 1 mengindikasikan nilai 0 sebelumnya) dan **maksimum** adalah 102,128, yang menunjukkan adanya beberapa nilai ekstrem.\n",
        "- **Saldo pada kuartil ke-25** adalah 137, dan **kuartil ke-75** adalah 1424, menunjukkan bahwa sebagian besar saldo berada di rentang ini.\n",
        "- **Penyebaran saldo** yang besar dapat menunjukkan adanya data dengan nilai ekstrem atau outliers.\n",
        "\n",
        "### 3. **Kolom `day`**\n",
        "- **Rata-rata hari** adalah sekitar 15.81 dengan variasi antara 1 hingga 31 hari.\n",
        "- Distribusi hari tidak menunjukkan adanya pola yang sangat mencolok, tetapi angka rata-rata mendekati tengah bulan menunjukkan distribusi yang relatif merata.\n",
        "\n",
        "### 4. **Kolom `duration`**\n",
        "- **Durasi rata-rata kontak** adalah 258.32 detik, dengan variasi yang signifikan (standar deviasi 258.16 detik).\n",
        "- **Durasi minimum** adalah 0 detik, sedangkan **maksimum** adalah 4918 detik, menunjukkan perbedaan besar dalam panjang percakapan.\n",
        "- **Durasi pada kuartil ke-25** adalah 103 detik dan **kuartil ke-75** adalah 318 detik. Durasi rata-rata menunjukkan bahwa banyak kontak memiliki durasi yang lebih lama daripada median.\n",
        "\n",
        "### 5. **Kolom `pdays`**\n",
        "- **Rata-rata `pdays`** adalah sekitar 857.23 dengan nilai minimum 1 dan maksimum 999.\n",
        "- **99% data** memiliki nilai `pdays` sebesar 999, menunjukkan bahwa banyak pelanggan belum pernah dihubungi sebelumnya. Nilai 999 tampaknya menjadi indikator khusus untuk \"belum dihubungi\".\n",
        "\n",
        "### 6. **Kolom `previous`**\n",
        "- **Rata-rata kontak sebelumnya** adalah 0.58, dengan nilai maksimum 275.\n",
        "- Mayoritas nilai adalah 0, tetapi ada beberapa nilai yang sangat tinggi, menunjukkan beberapa pelanggan yang mungkin telah dihubungi beberapa kali sebelumnya.\n",
        "\n",
        "### **Kesimpulan dan Rekomendasi**\n",
        "- **Outliers di `balance`**: Perlu pemeriksaan lebih lanjut untuk nilai ekstrem di kolom saldo, mungkin memerlukan penanganan outliers.\n",
        "- **Durasi kontak**: Durasi yang sangat bervariasi mungkin mengindikasikan perbedaan dalam kualitas atau intensitas kontak, yang bisa menjadi faktor penting dalam model prediksi.\n",
        "- **Kolom `pdays`**: Tingginya frekuensi nilai 999 menunjukkan pentingnya interpretasi nilai tersebut dalam konteks \"belum dihubungi\".\n",
        "- **Kolom `previous`**: Perlu diidentifikasi pelanggan yang memiliki nilai tinggi untuk menganalisis dampak pada hasil akhir.\n"
      ],
      "metadata": {
        "id": "LehmPUrnJSQP"
      }
    },
    {
      "cell_type": "code",
      "source": [
        "# Describe categorical data\n",
        "cats.describe()"
      ],
      "metadata": {
        "colab": {
          "base_uri": "https://localhost:8080/",
          "height": 212
        },
        "id": "-JkuTb2OXK1B",
        "outputId": "70c6be76-4f13-470b-c187-d4dbbdaa08ff"
      },
      "execution_count": null,
      "outputs": [
        {
          "output_type": "execute_result",
          "data": {
            "text/plain": [
              "                job  marital  education default housing   loan   contact  \\\n",
              "count         43193    43193      43193   43193   43193  43193     43193   \n",
              "unique           11        3          3       2       2      2         2   \n",
              "top     blue-collar  married  secondary   False    True  False  cellular   \n",
              "freq           9278    25946      23131   42411   24292  36086     40499   \n",
              "\n",
              "        month  campaign     poutcome      y  \n",
              "count   43193     43193        43193  43193  \n",
              "unique     12        47            4      2  \n",
              "top       may         1  nonexistent  False  \n",
              "freq    13192     16742        35286  38172  "
            ],
            "text/html": [
              "\n",
              "  <div id=\"df-36a8f8bf-8811-4ada-b451-eb77c916d8a5\" class=\"colab-df-container\">\n",
              "    <div>\n",
              "<style scoped>\n",
              "    .dataframe tbody tr th:only-of-type {\n",
              "        vertical-align: middle;\n",
              "    }\n",
              "\n",
              "    .dataframe tbody tr th {\n",
              "        vertical-align: top;\n",
              "    }\n",
              "\n",
              "    .dataframe thead th {\n",
              "        text-align: right;\n",
              "    }\n",
              "</style>\n",
              "<table border=\"1\" class=\"dataframe\">\n",
              "  <thead>\n",
              "    <tr style=\"text-align: right;\">\n",
              "      <th></th>\n",
              "      <th>job</th>\n",
              "      <th>marital</th>\n",
              "      <th>education</th>\n",
              "      <th>default</th>\n",
              "      <th>housing</th>\n",
              "      <th>loan</th>\n",
              "      <th>contact</th>\n",
              "      <th>month</th>\n",
              "      <th>campaign</th>\n",
              "      <th>poutcome</th>\n",
              "      <th>y</th>\n",
              "    </tr>\n",
              "  </thead>\n",
              "  <tbody>\n",
              "    <tr>\n",
              "      <th>count</th>\n",
              "      <td>43193</td>\n",
              "      <td>43193</td>\n",
              "      <td>43193</td>\n",
              "      <td>43193</td>\n",
              "      <td>43193</td>\n",
              "      <td>43193</td>\n",
              "      <td>43193</td>\n",
              "      <td>43193</td>\n",
              "      <td>43193</td>\n",
              "      <td>43193</td>\n",
              "      <td>43193</td>\n",
              "    </tr>\n",
              "    <tr>\n",
              "      <th>unique</th>\n",
              "      <td>11</td>\n",
              "      <td>3</td>\n",
              "      <td>3</td>\n",
              "      <td>2</td>\n",
              "      <td>2</td>\n",
              "      <td>2</td>\n",
              "      <td>2</td>\n",
              "      <td>12</td>\n",
              "      <td>47</td>\n",
              "      <td>4</td>\n",
              "      <td>2</td>\n",
              "    </tr>\n",
              "    <tr>\n",
              "      <th>top</th>\n",
              "      <td>blue-collar</td>\n",
              "      <td>married</td>\n",
              "      <td>secondary</td>\n",
              "      <td>False</td>\n",
              "      <td>True</td>\n",
              "      <td>False</td>\n",
              "      <td>cellular</td>\n",
              "      <td>may</td>\n",
              "      <td>1</td>\n",
              "      <td>nonexistent</td>\n",
              "      <td>False</td>\n",
              "    </tr>\n",
              "    <tr>\n",
              "      <th>freq</th>\n",
              "      <td>9278</td>\n",
              "      <td>25946</td>\n",
              "      <td>23131</td>\n",
              "      <td>42411</td>\n",
              "      <td>24292</td>\n",
              "      <td>36086</td>\n",
              "      <td>40499</td>\n",
              "      <td>13192</td>\n",
              "      <td>16742</td>\n",
              "      <td>35286</td>\n",
              "      <td>38172</td>\n",
              "    </tr>\n",
              "  </tbody>\n",
              "</table>\n",
              "</div>\n",
              "    <div class=\"colab-df-buttons\">\n",
              "\n",
              "  <div class=\"colab-df-container\">\n",
              "    <button class=\"colab-df-convert\" onclick=\"convertToInteractive('df-36a8f8bf-8811-4ada-b451-eb77c916d8a5')\"\n",
              "            title=\"Convert this dataframe to an interactive table.\"\n",
              "            style=\"display:none;\">\n",
              "\n",
              "  <svg xmlns=\"http://www.w3.org/2000/svg\" height=\"24px\" viewBox=\"0 -960 960 960\">\n",
              "    <path d=\"M120-120v-720h720v720H120Zm60-500h600v-160H180v160Zm220 220h160v-160H400v160Zm0 220h160v-160H400v160ZM180-400h160v-160H180v160Zm440 0h160v-160H620v160ZM180-180h160v-160H180v160Zm440 0h160v-160H620v160Z\"/>\n",
              "  </svg>\n",
              "    </button>\n",
              "\n",
              "  <style>\n",
              "    .colab-df-container {\n",
              "      display:flex;\n",
              "      gap: 12px;\n",
              "    }\n",
              "\n",
              "    .colab-df-convert {\n",
              "      background-color: #E8F0FE;\n",
              "      border: none;\n",
              "      border-radius: 50%;\n",
              "      cursor: pointer;\n",
              "      display: none;\n",
              "      fill: #1967D2;\n",
              "      height: 32px;\n",
              "      padding: 0 0 0 0;\n",
              "      width: 32px;\n",
              "    }\n",
              "\n",
              "    .colab-df-convert:hover {\n",
              "      background-color: #E2EBFA;\n",
              "      box-shadow: 0px 1px 2px rgba(60, 64, 67, 0.3), 0px 1px 3px 1px rgba(60, 64, 67, 0.15);\n",
              "      fill: #174EA6;\n",
              "    }\n",
              "\n",
              "    .colab-df-buttons div {\n",
              "      margin-bottom: 4px;\n",
              "    }\n",
              "\n",
              "    [theme=dark] .colab-df-convert {\n",
              "      background-color: #3B4455;\n",
              "      fill: #D2E3FC;\n",
              "    }\n",
              "\n",
              "    [theme=dark] .colab-df-convert:hover {\n",
              "      background-color: #434B5C;\n",
              "      box-shadow: 0px 1px 3px 1px rgba(0, 0, 0, 0.15);\n",
              "      filter: drop-shadow(0px 1px 2px rgba(0, 0, 0, 0.3));\n",
              "      fill: #FFFFFF;\n",
              "    }\n",
              "  </style>\n",
              "\n",
              "    <script>\n",
              "      const buttonEl =\n",
              "        document.querySelector('#df-36a8f8bf-8811-4ada-b451-eb77c916d8a5 button.colab-df-convert');\n",
              "      buttonEl.style.display =\n",
              "        google.colab.kernel.accessAllowed ? 'block' : 'none';\n",
              "\n",
              "      async function convertToInteractive(key) {\n",
              "        const element = document.querySelector('#df-36a8f8bf-8811-4ada-b451-eb77c916d8a5');\n",
              "        const dataTable =\n",
              "          await google.colab.kernel.invokeFunction('convertToInteractive',\n",
              "                                                    [key], {});\n",
              "        if (!dataTable) return;\n",
              "\n",
              "        const docLinkHtml = 'Like what you see? Visit the ' +\n",
              "          '<a target=\"_blank\" href=https://colab.research.google.com/notebooks/data_table.ipynb>data table notebook</a>'\n",
              "          + ' to learn more about interactive tables.';\n",
              "        element.innerHTML = '';\n",
              "        dataTable['output_type'] = 'display_data';\n",
              "        await google.colab.output.renderOutput(dataTable, element);\n",
              "        const docLink = document.createElement('div');\n",
              "        docLink.innerHTML = docLinkHtml;\n",
              "        element.appendChild(docLink);\n",
              "      }\n",
              "    </script>\n",
              "  </div>\n",
              "\n",
              "\n",
              "<div id=\"df-02d94a74-e3fe-4bfb-a944-9618e71fbc13\">\n",
              "  <button class=\"colab-df-quickchart\" onclick=\"quickchart('df-02d94a74-e3fe-4bfb-a944-9618e71fbc13')\"\n",
              "            title=\"Suggest charts\"\n",
              "            style=\"display:none;\">\n",
              "\n",
              "<svg xmlns=\"http://www.w3.org/2000/svg\" height=\"24px\"viewBox=\"0 0 24 24\"\n",
              "     width=\"24px\">\n",
              "    <g>\n",
              "        <path d=\"M19 3H5c-1.1 0-2 .9-2 2v14c0 1.1.9 2 2 2h14c1.1 0 2-.9 2-2V5c0-1.1-.9-2-2-2zM9 17H7v-7h2v7zm4 0h-2V7h2v10zm4 0h-2v-4h2v4z\"/>\n",
              "    </g>\n",
              "</svg>\n",
              "  </button>\n",
              "\n",
              "<style>\n",
              "  .colab-df-quickchart {\n",
              "      --bg-color: #E8F0FE;\n",
              "      --fill-color: #1967D2;\n",
              "      --hover-bg-color: #E2EBFA;\n",
              "      --hover-fill-color: #174EA6;\n",
              "      --disabled-fill-color: #AAA;\n",
              "      --disabled-bg-color: #DDD;\n",
              "  }\n",
              "\n",
              "  [theme=dark] .colab-df-quickchart {\n",
              "      --bg-color: #3B4455;\n",
              "      --fill-color: #D2E3FC;\n",
              "      --hover-bg-color: #434B5C;\n",
              "      --hover-fill-color: #FFFFFF;\n",
              "      --disabled-bg-color: #3B4455;\n",
              "      --disabled-fill-color: #666;\n",
              "  }\n",
              "\n",
              "  .colab-df-quickchart {\n",
              "    background-color: var(--bg-color);\n",
              "    border: none;\n",
              "    border-radius: 50%;\n",
              "    cursor: pointer;\n",
              "    display: none;\n",
              "    fill: var(--fill-color);\n",
              "    height: 32px;\n",
              "    padding: 0;\n",
              "    width: 32px;\n",
              "  }\n",
              "\n",
              "  .colab-df-quickchart:hover {\n",
              "    background-color: var(--hover-bg-color);\n",
              "    box-shadow: 0 1px 2px rgba(60, 64, 67, 0.3), 0 1px 3px 1px rgba(60, 64, 67, 0.15);\n",
              "    fill: var(--button-hover-fill-color);\n",
              "  }\n",
              "\n",
              "  .colab-df-quickchart-complete:disabled,\n",
              "  .colab-df-quickchart-complete:disabled:hover {\n",
              "    background-color: var(--disabled-bg-color);\n",
              "    fill: var(--disabled-fill-color);\n",
              "    box-shadow: none;\n",
              "  }\n",
              "\n",
              "  .colab-df-spinner {\n",
              "    border: 2px solid var(--fill-color);\n",
              "    border-color: transparent;\n",
              "    border-bottom-color: var(--fill-color);\n",
              "    animation:\n",
              "      spin 1s steps(1) infinite;\n",
              "  }\n",
              "\n",
              "  @keyframes spin {\n",
              "    0% {\n",
              "      border-color: transparent;\n",
              "      border-bottom-color: var(--fill-color);\n",
              "      border-left-color: var(--fill-color);\n",
              "    }\n",
              "    20% {\n",
              "      border-color: transparent;\n",
              "      border-left-color: var(--fill-color);\n",
              "      border-top-color: var(--fill-color);\n",
              "    }\n",
              "    30% {\n",
              "      border-color: transparent;\n",
              "      border-left-color: var(--fill-color);\n",
              "      border-top-color: var(--fill-color);\n",
              "      border-right-color: var(--fill-color);\n",
              "    }\n",
              "    40% {\n",
              "      border-color: transparent;\n",
              "      border-right-color: var(--fill-color);\n",
              "      border-top-color: var(--fill-color);\n",
              "    }\n",
              "    60% {\n",
              "      border-color: transparent;\n",
              "      border-right-color: var(--fill-color);\n",
              "    }\n",
              "    80% {\n",
              "      border-color: transparent;\n",
              "      border-right-color: var(--fill-color);\n",
              "      border-bottom-color: var(--fill-color);\n",
              "    }\n",
              "    90% {\n",
              "      border-color: transparent;\n",
              "      border-bottom-color: var(--fill-color);\n",
              "    }\n",
              "  }\n",
              "</style>\n",
              "\n",
              "  <script>\n",
              "    async function quickchart(key) {\n",
              "      const quickchartButtonEl =\n",
              "        document.querySelector('#' + key + ' button');\n",
              "      quickchartButtonEl.disabled = true;  // To prevent multiple clicks.\n",
              "      quickchartButtonEl.classList.add('colab-df-spinner');\n",
              "      try {\n",
              "        const charts = await google.colab.kernel.invokeFunction(\n",
              "            'suggestCharts', [key], {});\n",
              "      } catch (error) {\n",
              "        console.error('Error during call to suggestCharts:', error);\n",
              "      }\n",
              "      quickchartButtonEl.classList.remove('colab-df-spinner');\n",
              "      quickchartButtonEl.classList.add('colab-df-quickchart-complete');\n",
              "    }\n",
              "    (() => {\n",
              "      let quickchartButtonEl =\n",
              "        document.querySelector('#df-02d94a74-e3fe-4bfb-a944-9618e71fbc13 button');\n",
              "      quickchartButtonEl.style.display =\n",
              "        google.colab.kernel.accessAllowed ? 'block' : 'none';\n",
              "    })();\n",
              "  </script>\n",
              "</div>\n",
              "\n",
              "    </div>\n",
              "  </div>\n"
            ],
            "application/vnd.google.colaboratory.intrinsic+json": {
              "type": "dataframe",
              "summary": "{\n  \"name\": \"cats\",\n  \"rows\": 4,\n  \"fields\": [\n    {\n      \"column\": \"job\",\n      \"properties\": {\n        \"dtype\": \"string\",\n        \"num_unique_values\": 4,\n        \"samples\": [\n          11,\n          \"9278\",\n          \"43193\"\n        ],\n        \"semantic_type\": \"\",\n        \"description\": \"\"\n      }\n    },\n    {\n      \"column\": \"marital\",\n      \"properties\": {\n        \"dtype\": \"string\",\n        \"num_unique_values\": 4,\n        \"samples\": [\n          3,\n          \"25946\",\n          \"43193\"\n        ],\n        \"semantic_type\": \"\",\n        \"description\": \"\"\n      }\n    },\n    {\n      \"column\": \"education\",\n      \"properties\": {\n        \"dtype\": \"string\",\n        \"num_unique_values\": 4,\n        \"samples\": [\n          3,\n          \"23131\",\n          \"43193\"\n        ],\n        \"semantic_type\": \"\",\n        \"description\": \"\"\n      }\n    },\n    {\n      \"column\": \"default\",\n      \"properties\": {\n        \"dtype\": \"string\",\n        \"num_unique_values\": 4,\n        \"samples\": [\n          2,\n          \"42411\",\n          \"43193\"\n        ],\n        \"semantic_type\": \"\",\n        \"description\": \"\"\n      }\n    },\n    {\n      \"column\": \"housing\",\n      \"properties\": {\n        \"dtype\": \"string\",\n        \"num_unique_values\": 4,\n        \"samples\": [\n          2,\n          \"24292\",\n          \"43193\"\n        ],\n        \"semantic_type\": \"\",\n        \"description\": \"\"\n      }\n    },\n    {\n      \"column\": \"loan\",\n      \"properties\": {\n        \"dtype\": \"string\",\n        \"num_unique_values\": 4,\n        \"samples\": [\n          2,\n          \"36086\",\n          \"43193\"\n        ],\n        \"semantic_type\": \"\",\n        \"description\": \"\"\n      }\n    },\n    {\n      \"column\": \"contact\",\n      \"properties\": {\n        \"dtype\": \"string\",\n        \"num_unique_values\": 4,\n        \"samples\": [\n          2,\n          \"40499\",\n          \"43193\"\n        ],\n        \"semantic_type\": \"\",\n        \"description\": \"\"\n      }\n    },\n    {\n      \"column\": \"month\",\n      \"properties\": {\n        \"dtype\": \"string\",\n        \"num_unique_values\": 4,\n        \"samples\": [\n          12,\n          \"13192\",\n          \"43193\"\n        ],\n        \"semantic_type\": \"\",\n        \"description\": \"\"\n      }\n    },\n    {\n      \"column\": \"campaign\",\n      \"properties\": {\n        \"dtype\": \"number\",\n        \"std\": 20383,\n        \"min\": 1,\n        \"max\": 43193,\n        \"num_unique_values\": 4,\n        \"samples\": [\n          47,\n          16742,\n          43193\n        ],\n        \"semantic_type\": \"\",\n        \"description\": \"\"\n      }\n    },\n    {\n      \"column\": \"poutcome\",\n      \"properties\": {\n        \"dtype\": \"string\",\n        \"num_unique_values\": 4,\n        \"samples\": [\n          4,\n          \"35286\",\n          \"43193\"\n        ],\n        \"semantic_type\": \"\",\n        \"description\": \"\"\n      }\n    },\n    {\n      \"column\": \"y\",\n      \"properties\": {\n        \"dtype\": \"string\",\n        \"num_unique_values\": 4,\n        \"samples\": [\n          2,\n          \"38172\",\n          \"43193\"\n        ],\n        \"semantic_type\": \"\",\n        \"description\": \"\"\n      }\n    }\n  ]\n}"
            }
          },
          "metadata": {},
          "execution_count": 21
        }
      ]
    },
    {
      "cell_type": "markdown",
      "source": [
        "Berikut adalah analisis dari statistik deskriptif kolom-kolom kategorikal yang Anda berikan:\n",
        "\n",
        "### 1. **Kolom `job`**\n",
        "- **Jumlah unik**: 11\n",
        "- **Nilai terbanyak (`top`)**: `blue-collar` dengan frekuensi 9278.\n",
        "- **Pola**: Sebagian besar pelanggan memiliki pekerjaan di sektor `blue-collar`, menunjukkan bahwa kategori ini adalah yang paling umum dalam dataset ini.\n",
        "\n",
        "### 2. **Kolom `marital`**\n",
        "- **Jumlah unik**: 3\n",
        "- **Nilai terbanyak (`top`)**: `married` dengan frekuensi 25946.\n",
        "- **Pola**: Pelanggan yang sudah menikah adalah yang paling umum. Ini menunjukkan bahwa status perkawinan `married` lebih dominan dibandingkan `single` atau `divorced`.\n",
        "\n",
        "### 3. **Kolom `education`**\n",
        "- **Jumlah unik**: 3\n",
        "- **Nilai terbanyak (`top`)**: `secondary` dengan frekuensi 23131.\n",
        "- **Pola**: Pendidikan tingkat `secondary` adalah yang paling umum, menunjukkan bahwa sebagian besar pelanggan memiliki pendidikan menengah.\n",
        "\n",
        "### 4. **Kolom `default`**\n",
        "- **Jumlah unik**: 2\n",
        "- **Nilai terbanyak (`top`)**: `False` dengan frekuensi 42411.\n",
        "- **Pola**: Mayoritas pelanggan tidak memiliki kredit macet (`False`), yang menunjukkan bahwa pelanggan cenderung memiliki catatan kredit yang baik.\n",
        "\n",
        "### 5. **Kolom `housing`**\n",
        "- **Jumlah unik**: 2\n",
        "- **Nilai terbanyak (`top`)**: `True` dengan frekuensi 24292.\n",
        "- **Pola**: Sebagian besar pelanggan memiliki pinjaman rumah (`True`), yang menunjukkan bahwa pinjaman rumah adalah fitur umum di antara pelanggan.\n",
        "\n",
        "### 6. **Kolom `loan`**\n",
        "- **Jumlah unik**: 2\n",
        "- **Nilai terbanyak (`top`)**: `False` dengan frekuensi 36086.\n",
        "- **Pola**: Banyak pelanggan tidak memiliki pinjaman pribadi (`False`), menunjukkan bahwa pinjaman pribadi kurang umum dibandingkan pinjaman rumah.\n",
        "\n",
        "### 7. **Kolom `contact`**\n",
        "- **Jumlah unik**: 2\n",
        "- **Nilai terbanyak (`top`)**: `cellular` dengan frekuensi 40499.\n",
        "- **Pola**: Kontak melalui `cellular` adalah yang paling umum, menunjukkan bahwa sebagian besar interaksi dilakukan melalui telepon seluler.\n",
        "\n",
        "### 8. **Kolom `month`**\n",
        "- **Jumlah unik**: 12\n",
        "- **Nilai terbanyak (`top`)**: `may` dengan frekuensi 13192.\n",
        "- **Pola**: Bulan `May` adalah yang paling umum untuk interaksi, menunjukkan bahwa kampanye telemarketing cenderung lebih sering terjadi pada bulan ini.\n",
        "\n",
        "### 9. **Kolom `campaign`**\n",
        "- **Jumlah unik**: 47\n",
        "- **Nilai terbanyak (`top`)**: 1 dengan frekuensi 16742.\n",
        "- **Pola**: Jumlah kontak per kampanye bervariasi, dengan nilai 1 sebagai yang paling sering terjadi. Ini mungkin menunjukkan bahwa banyak pelanggan dihubungi hanya sekali dalam kampanye.\n",
        "\n",
        "### 10. **Kolom `poutcome`**\n",
        "- **Jumlah unik**: 4\n",
        "- **Nilai terbanyak (`top`)**: `nonexistent` dengan frekuensi 35286.\n",
        "- **Pola**: Banyak pelanggan memiliki hasil kampanye yang tidak ada sebelumnya (`nonexistent`), menunjukkan bahwa sebagian besar interaksi tidak memiliki hasil kampanye yang terdokumentasi.\n",
        "\n",
        "### 11. **Kolom `y`**\n",
        "- **Jumlah unik**: 2\n",
        "- **Nilai terbanyak (`top`)**: `False` dengan frekuensi 38172.\n",
        "- **Pola**: Sebagian besar pelanggan tidak berlangganan produk (`False`), menunjukkan bahwa keputusan akhir untuk berlangganan adalah hasil yang kurang umum dibandingkan tidak berlangganan.\n"
      ],
      "metadata": {
        "id": "ILAiEdqPKSNs"
      }
    },
    {
      "cell_type": "markdown",
      "source": [
        "## **Univariate Analysis**"
      ],
      "metadata": {
        "id": "pyCllrdsXYEI"
      }
    },
    {
      "source": [
        "# Import the matplotlib.pyplot module\n",
        "import matplotlib.pyplot as plt\n",
        "\n",
        "# Import the seaborn module\n",
        "import seaborn as sns\n",
        "\n",
        "# Plot histogram untuk kolom numerik\n",
        "plt.figure(figsize=(15, 8))\n",
        "num_cols = len(nums.columns)\n",
        "for i, col in enumerate(nums.columns):\n",
        "    plt.subplot(2, (num_cols + 1) // 2, i + 1)\n",
        "    sns.histplot(nums[col], kde=True, color='blue') # Now sns is defined and can be used\n",
        "    plt.title(col, fontsize=15)\n",
        "    plt.ylabel('Frequency', fontsize=12)\n",
        "    plt.xlabel(col, fontsize=12)\n",
        "    plt.xticks(fontsize=10)\n",
        "    plt.yticks(fontsize=10)\n",
        "\n",
        "plt.tight_layout()\n",
        "plt.show()"
      ],
      "cell_type": "code",
      "metadata": {
        "colab": {
          "base_uri": "https://localhost:8080/",
          "height": 353
        },
        "id": "5h4diecwDdnV",
        "outputId": "cb766eed-76b1-4e12-bcc1-45014d878b65"
      },
      "execution_count": null,
      "outputs": [
        {
          "output_type": "display_data",
          "data": {
            "text/plain": [
              "<Figure size 1500x800 with 6 Axes>"
            ],
            "image/png": "[encoded data removed]"
          },
          "metadata": {}
        }
      ]
    },
    {
      "cell_type": "code",
      "source": [
        "# Plot boxplot untuk kolom numerik\n",
        "plt.figure(figsize=(15, 8))\n",
        "for i, col in enumerate(nums.columns):\n",
        "    plt.subplot(1, len(nums.columns), i + 1)\n",
        "    sns.boxplot(y=nums[col], color='blue', orient='v')\n",
        "    plt.title(col, fontsize=8)\n",
        "    plt.tight_layout()\n",
        "\n",
        "plt.show()"
      ],
      "metadata": {
        "colab": {
          "base_uri": "https://localhost:8080/",
          "height": 353
        },
        "id": "M73zXMbmYlT7",
        "outputId": "3ff85642-3ee3-4c8a-bc10-f2da706203b4"
      },
      "execution_count": null,
      "outputs": [
        {
          "output_type": "display_data",
          "data": {
            "text/plain": [
              "<Figure size 1500x800 with 6 Axes>"
            ],
            "image/png": "[encoded data removed]"
          },
          "metadata": {}
        }
      ]
    },
    {
      "cell_type": "markdown",
      "source": [
        "**Analisis Grafik Distribusi Variabel Numerik**\n",
        "\n",
        "\n",
        "1. **Age (Usia):**\n",
        "   - **Skew:** Distribusi usia cenderung *right-skewed* (miring ke kanan). Artinya, sebagian besar nasabah berada pada rentang usia yang lebih muda, dengan sedikit sekali nasabah yang berusia sangat tua. Ini adalah pola yang umum ditemukan dalam data demografis.\n",
        "\n",
        "2. **Balance (Saldo):**\n",
        "   - **Skew:** Distribusi saldo juga *right-skewed*. Ini menunjukkan bahwa sebagian besar nasabah memiliki saldo yang relatif rendah, sementara hanya sedikit nasabah yang memiliki saldo yang sangat tinggi. Ini mungkin mencerminkan distribusi kekayaan yang umum di masyarakat.\n",
        "\n",
        "3. **Day (Hari):**\n",
        "   - **Pola:** Distribusi hari ini tidak menunjukkan skewness yang jelas. Sebaliknya, terlihat adanya beberapa *peaks* (puncak) yang mungkin mengindikasikan adanya pola musiman atau siklus tertentu dalam aktivitas nasabah. Misalnya, bisa jadi ada hari-hari tertentu dalam sebulan di mana aktivitas transaksi lebih tinggi daripada hari lainnya.\n",
        "\n",
        "4. **Duration (Durasi):**\n",
        "   - **Skew:** Distribusi durasi sangat *right-skewed*. Ini menunjukkan bahwa sebagian besar interaksi dengan nasabah memiliki durasi yang relatif singkat, sementara hanya sedikit interaksi yang berdurasi sangat panjang. Ini mungkin mencerminkan efisiensi dalam proses pelayanan atau karakteristik produk yang ditawarkan.\n",
        "\n",
        "5. **Pdays (Hari sejak kontak terakhir):**\n",
        "   - **Skew:** Distribusi pdays juga *right-skewed*. Ini mengindikasikan bahwa banyak nasabah belum pernah dihubungi sebelumnya (nilai pdays sangat tinggi), sementara hanya sedikit nasabah yang dihubungi secara berkala. Ini bisa menjadi petunjuk tentang frekuensi kampanye pemasaran.\n",
        "\n",
        "6. **Previous (Kontak sebelumnya):**\n",
        "   - **Skew:** Distribusi previous sangat *right-skewed*. Ini menunjukkan bahwa sebagian besar nasabah belum pernah dihubungi sebelumnya (nilai previous sama dengan 0), sementara hanya sedikit nasabah yang telah dihubungi beberapa kali. Ini konsisten dengan interpretasi dari variabel pdays.\n",
        "\n",
        "**Implikasi:**\n",
        "\n",
        "* **Transformasi Data:** Jika ingin melakukan analisis lebih lanjut, seperti regresi atau clustering, mungkin perlu dilakukan transformasi data untuk mengatasi masalah skewness. Transformasi yang umum digunakan adalah logaritma atau square root."
      ],
      "metadata": {
        "id": "U1PiYGnsMb2W"
      }
    },
    {
      "cell_type": "code",
      "source": [
        "import pandas as pd\n",
        "import matplotlib.pyplot as plt\n",
        "import seaborn as sns\n",
        "\n",
        "# Visualisasi untuk kolom kategorikal\n",
        "categorical_columns = ['job', 'marital', 'education', 'default', 'housing', 'loan', 'contact', 'month', 'poutcome', 'y']\n",
        "\n",
        "plt.figure(figsize=(20, 15))\n",
        "\n",
        "for i, col in enumerate(categorical_columns, 1):\n",
        "    plt.subplot(4, 3, i)\n",
        "    sns.countplot(data=df, x=col, order=df[col].value_counts().index)  # Hilangkan parameter palette\n",
        "    plt.title(f'Distribusi {col}')\n",
        "    plt.xticks(rotation=45)\n",
        "\n",
        "plt.tight_layout()\n",
        "plt.show()\n"
      ],
      "metadata": {
        "colab": {
          "base_uri": "https://localhost:8080/",
          "height": 492
        },
        "id": "EPTI19Z0Yycr",
        "outputId": "e4dcc237-f4af-4a0b-9dd6-09944a26a666"
      },
      "execution_count": null,
      "outputs": [
        {
          "output_type": "display_data",
          "data": {
            "text/plain": [
              "<Figure size 2000x1500 with 10 Axes>"
            ],
            "image/png": "[encoded data removed]"
          },
          "metadata": {}
        }
      ]
    },
    {
      "cell_type": "markdown",
      "source": [
        "**Analisis Kolom Kategorikal Berdasarkan Visualisasi**\n",
        "\n",
        "**Analisis Umum**\n",
        "\n",
        "* **Dominasi Beberapa Kategori:** Terlihat jelas bahwa beberapa kategori dalam setiap kolom memiliki frekuensi yang jauh lebih tinggi dibandingkan kategori lainnya. Ini mengindikasikan adanya ketidakseimbangan kelas (class imbalance) dalam data.\n",
        "* **Variasi Distribusi:** Distribusi frekuensi antar kolom sangat bervariasi. Beberapa kolom memiliki distribusi yang sangat condong ke satu kategori, sementara kolom lainnya memiliki distribusi yang lebih merata.\n",
        "\n",
        "**Analisis Per Kolom (Berdasarkan Asumsi Bahasa Indonesia)**\n",
        "\n",
        "* **job:** Sebagian besar nasabah memiliki pekerjaan sebagai 'management' atau 'technician'. Pekerjaan seperti 'housemaid', 'student', dan 'retired' memiliki frekuensi yang jauh lebih rendah.\n",
        "* **marital:** Sebagian besar nasabah berstatus 'married', diikuti oleh 'single'. Status 'divorced' memiliki frekuensi yang jauh lebih sedikit.\n",
        "* **education:** Sebagian besar nasabah memiliki tingkat pendidikan 'secondary'. Tingkat pendidikan 'tertiary' juga cukup signifikan, sedangkan tingkat pendidikan 'primary' lebih sedikit.\n",
        "* **default:** Sebagian besar nasabah tidak memiliki default (nilai 'no'). Hanya sedikit nasabah yang memiliki riwayat default.\n",
        "* **housing:** Sebagian besar nasabah memiliki pinjaman rumah (nilai 'yes').\n",
        "* **loan:** Sebagian besar nasabah tidak memiliki pinjaman pribadi (nilai 'no').\n",
        "* **contact:** Sebagian besar kontak dilakukan melalui 'cellular'. Kontak melalui 'telephone' jauh lebih sedikit.\n",
        "* **month:** Sebagian besar kontak dilakukan pada bulan 'may' dan 'jul'. Bulan-bulan lainnya memiliki frekuensi yang lebih rendah.\n",
        "* **poutcome:** Sebagian besar hasil kampanye sebelumnya adalah 'failure'. Hasil 'success' memiliki frekuensi yang paling rendah. nonexsistence artinya belum dihubungi.\n",
        "* **y:** Sebagian besar nasabah tidak berlangganan produk (nilai 'no').\n",
        "\n",
        "**Implikasi untuk Analisis Lebih Lanjut**\n",
        "\n",
        "* **Pemodelan:** Kolom-kolom kategorikal ini dapat digunakan sebagai fitur dalam model machine learning untuk memprediksi variabel target (misalnya, 'y'). Namun, perlu dilakukan encoding (misalnya, one-hot encoding) sebelum digunakan dalam model.\n"
      ],
      "metadata": {
        "id": "bG7WWu2IPKkX"
      }
    },
    {
      "cell_type": "markdown",
      "source": [
        "## Multivariate Analysis"
      ],
      "metadata": {
        "id": "x_fV9ofSaR5m"
      }
    },
    {
      "cell_type": "code",
      "source": [
        "df.info()"
      ],
      "metadata": {
        "colab": {
          "base_uri": "https://localhost:8080/"
        },
        "id": "GXO8018uQZdr",
        "outputId": "4ab6e586-62a7-42fb-91e8-9dede2afec9c"
      },
      "execution_count": null,
      "outputs": [
        {
          "output_type": "stream",
          "name": "stdout",
          "text": [
            "<class 'pandas.core.frame.DataFrame'>\n",
            "Index: 43193 entries, 0 to 45210\n",
            "Data columns (total 17 columns):\n",
            " #   Column     Non-Null Count  Dtype \n",
            "---  ------     --------------  ----- \n",
            " 0   age        43193 non-null  int64 \n",
            " 1   job        43193 non-null  object\n",
            " 2   marital    43193 non-null  object\n",
            " 3   education  43193 non-null  object\n",
            " 4   default    43193 non-null  bool  \n",
            " 5   balance    43193 non-null  int64 \n",
            " 6   housing    43193 non-null  bool  \n",
            " 7   loan       43193 non-null  bool  \n",
            " 8   contact    43193 non-null  object\n",
            " 9   day        43193 non-null  int64 \n",
            " 10  month      43193 non-null  object\n",
            " 11  duration   43193 non-null  int64 \n",
            " 12  campaign   43193 non-null  object\n",
            " 13  pdays      43193 non-null  int64 \n",
            " 14  previous   43193 non-null  int64 \n",
            " 15  poutcome   43193 non-null  object\n",
            " 16  y          43193 non-null  bool  \n",
            "dtypes: bool(4), int64(6), object(7)\n",
            "memory usage: 4.8+ MB\n"
          ]
        }
      ]
    },
    {
      "cell_type": "markdown",
      "source": [
        "## **Age >< y**"
      ],
      "metadata": {
        "id": "8PrkDxl2TfyA"
      }
    },
    {
      "cell_type": "markdown",
      "source": [
        "**Analisa Eksperimen yang digunakan**\n",
        "1. Formulasi Hipotesis\n",
        "Hipotesis Nol (H0): Tidak ada perbedaan signifikan dalam usia antara kategori y yang berbeda.\n",
        "Hipotesis Alternatif (H1): Ada perbedaan signifikan dalam usia antara kategori y yang berbeda.\n",
        "2. Pilih Metode Uji Statistik\n",
        "Karena age adalah numerik dan y adalah boolean, kita bisa menggunakan:\n",
        "\n",
        "3. Uji t untuk Dua Sampel Independen: Untuk menguji apakah rata-rata usia berbeda antara dua kategori y (True dan False)."
      ],
      "metadata": {
        "id": "V-aqtNq0R4GL"
      }
    },
    {
      "cell_type": "code",
      "source": [
        "import pandas as pd\n",
        "import numpy as np\n",
        "from scipy import stats\n",
        "\n",
        "# Pisahkan usia berdasarkan kategori y\n",
        "age_y_true = df[df['y'] == 1]['age']\n",
        "age_y_false = df[df['y'] == 0]['age']\n",
        "\n",
        "# 1. Uji T untuk Dua Sampel Independen\n",
        "t_stat, p_val = stats.ttest_ind(age_y_true, age_y_false, equal_var=False)\n",
        "\n",
        "# Tampilkan hasil uji t\n",
        "print(f'Uji T untuk usia dan y:')\n",
        "print(f'T-statistic: {t_stat:.4f}')\n",
        "print(f'P-value: {p_val:.4f}')\n",
        "\n",
        "# Interpretasi hasil\n",
        "alpha = 0.05\n",
        "if p_val < alpha:\n",
        "    print('Hasil: Tolak H0. Ada perbedaan signifikan dalam usia antara kategori y yang berbeda.')\n",
        "else:\n",
        "    print('Hasil: Gagal menolak H0. Tidak ada perbedaan signifikan dalam usia antara kategori y yang berbeda.')\n"
      ],
      "metadata": {
        "colab": {
          "base_uri": "https://localhost:8080/"
        },
        "id": "4JbBUmmpR2M0",
        "outputId": "3164dc60-4a50-451c-965b-6898685319bd"
      },
      "execution_count": null,
      "outputs": [
        {
          "output_type": "stream",
          "name": "stdout",
          "text": [
            "Uji T untuk usia dan y:\n",
            "T-statistic: 4.1684\n",
            "P-value: 0.0000\n",
            "Hasil: Tolak H0. Ada perbedaan signifikan dalam usia antara kategori y yang berbeda.\n"
          ]
        }
      ]
    },
    {
      "cell_type": "code",
      "source": [
        "import numpy as np\n",
        "\n",
        "# Hitung rata-rata dan deviasi standar\n",
        "mean_true = np.mean(age_y_true)\n",
        "mean_false = np.mean(age_y_false)\n",
        "std_true = np.std(age_y_true, ddof=1)\n",
        "std_false = np.std(age_y_false, ddof=1)\n",
        "\n",
        "# Hitung ukuran efek Cohen's d\n",
        "pooled_std = np.sqrt(((std_true**2 + std_false**2) / 2))\n",
        "cohen_d = (mean_true - mean_false) / pooled_std\n",
        "\n",
        "print(f'Cohen\\'s d: {cohen_d:.4f}')\n"
      ],
      "metadata": {
        "colab": {
          "base_uri": "https://localhost:8080/"
        },
        "id": "Xe3LLoOVSgDO",
        "outputId": "87cf6b36-68a0-47d7-eb4c-20231a7f91c1"
      },
      "execution_count": null,
      "outputs": [
        {
          "output_type": "stream",
          "name": "stdout",
          "text": [
            "Cohen's d: 0.0688\n"
          ]
        }
      ]
    },
    {
      "cell_type": "markdown",
      "source": [
        "Kesimpulan\n",
        "Secara keseluruhan:\n",
        "\n",
        "Ada perbedaan signifikan dalam usia antara kategori y, tetapi perbedaan ini kecil dalam konteks praktis.\n",
        "Cohen's d yang kecil menunjukkan bahwa meskipun ada perbedaan statistik yang signifikan, pengaruh usia terhadap kategori y tidak besar secara praktis. Ini berarti faktor usia mungkin bukan faktor yang sangat kuat dalam memprediksi atau menjelaskan variasi dalam y, meskipun perbedaan usia dapat diidentifikasi secara statistik."
      ],
      "metadata": {
        "id": "pwrxD_7mS0JZ"
      }
    },
    {
      "cell_type": "markdown",
      "source": [
        "## **job >< y**"
      ],
      "metadata": {
        "id": "5MTFh7LdT5Lu"
      }
    },
    {
      "cell_type": "markdown",
      "source": [
        "Untuk menguji hubungan antara variabel kategorikal seperti job dan variabel target kategorikal seperti y, kita bisa menggunakan beberapa metode statistik yang sesuai. Dalam kasus ini, kita dapat menggunakan uji Chi-Square untuk menguji independensi antara job dan y, serta menghitung ukuran efek seperti Cramér's V untuk mengetahui seberapa besar pengaruhnya.\n",
        "\n",
        "Hipotesis\n",
        "Hipotesis Nol (H0):\n",
        "Tidak ada hubungan antara job dan y. Artinya, distribusi frekuensi kategori job adalah sama untuk kategori y yang berbeda.\n",
        "\n",
        "Hipotesis Alternatif (H1):\n",
        "Ada hubungan antara job dan y. Artinya, distribusi frekuensi kategori job berbeda untuk kategori y yang berbeda.\n",
        "\n",
        "Langkah-langkah Analisis\n",
        "Uji Chi-Square:\n",
        "\n",
        "- Menguji apakah terdapat hubungan yang signifikan antara job dan y.\n",
        "Cramér's V:\n",
        "\n",
        "- Mengukur kekuatan asosiasi antara dua variabel kategorikal."
      ],
      "metadata": {
        "id": "Us-Mq6ePTbzT"
      }
    },
    {
      "cell_type": "code",
      "source": [
        "import pandas as pd\n",
        "from scipy.stats import chi2_contingency\n",
        "\n",
        "# Menghitung tabel kontingensi antara 'job' dan 'y'\n",
        "contingency_table = pd.crosstab(df['job'], df['y'])\n",
        "\n",
        "# Melakukan uji Chi-Square\n",
        "chi2_stat, p_value, dof, ex = chi2_contingency(contingency_table)\n",
        "\n",
        "print(f\"Chi-Square Statistic: {chi2_stat}\")\n",
        "print(f\"P-value: {p_value}\")\n"
      ],
      "metadata": {
        "colab": {
          "base_uri": "https://localhost:8080/"
        },
        "id": "Amn9ha26UGWq",
        "outputId": "a5dde772-c5f0-4180-e3dc-7ceee17b2971"
      },
      "execution_count": null,
      "outputs": [
        {
          "output_type": "stream",
          "name": "stdout",
          "text": [
            "Chi-Square Statistic: 772.4886316546689\n",
            "P-value: 1.690329500153999e-159\n"
          ]
        }
      ]
    },
    {
      "cell_type": "code",
      "source": [
        "import numpy as np\n",
        "\n",
        "# Menghitung ukuran efek Cramér's V\n",
        "n = contingency_table.sum().sum()\n",
        "phi2 = chi2_stat / n\n",
        "r, k = contingency_table.shape\n",
        "phi2_corr = max(0, phi2 - (k - 1) / (n - 1))\n",
        "r_corr = r - (r - 1) * (k - 1) / (n - 1)\n",
        "k_corr = k - (r - 1) * (k - 1) / (n - 1)\n",
        "cramers_v = np.sqrt(phi2_corr / min(r_corr, k_corr))\n",
        "\n",
        "print(f\"Cramér's V: {cramers_v}\")\n"
      ],
      "metadata": {
        "colab": {
          "base_uri": "https://localhost:8080/"
        },
        "id": "JpOj-y53UKKc",
        "outputId": "e8f1e5a0-641b-41ec-b3f0-7c52cd1291b5"
      },
      "execution_count": null,
      "outputs": [
        {
          "output_type": "stream",
          "name": "stdout",
          "text": [
            "Cramér's V: 0.0945079222445329\n"
          ]
        }
      ]
    },
    {
      "cell_type": "markdown",
      "source": [
        "Berikut adalah interpretasi dari hasil uji Chi-Square dan Cramér's V untuk variabel `job` dan `y`:\n",
        "\n",
        "### Hasil Uji Chi-Square\n",
        "\n",
        "- **Chi-Square Statistic:** 772.49\n",
        "- **P-value:** 1.69e-159\n",
        "\n",
        "#### Interpretasi:\n",
        "\n",
        "- **P-value** sangat kecil (jauh di bawah 0.05), yang berarti kita **menolak hipotesis nol (H0)**. Ini menunjukkan bahwa ada hubungan yang signifikan antara variabel `job` dan `y`. Dengan kata lain, distribusi frekuensi kategori `job` berbeda untuk kategori `y` yang berbeda.\n",
        "\n",
        "### Cramér's V\n",
        "\n",
        "- **Cramér's V:** 0.0945\n",
        "\n",
        "#### Interpretasi:\n",
        "\n",
        "- **Cramér's V** mengukur kekuatan asosiasi antara variabel `job` dan `y`. Nilai Cramér's V berkisar antara 0 (tidak ada asosiasi) hingga 1 (asosiasi sempurna). Nilai 0.0945 menunjukkan adanya asosiasi **yang lemah** antara `job` dan `y`.\n",
        "\n",
        "### Kesimpulan\n",
        "\n",
        "- **Ada hubungan signifikan** antara `job` dan `y`, tetapi **kekuatan asosiasi tersebut lemah**. Ini berarti meskipun ada perbedaan yang signifikan dalam distribusi `job` antara kategori `y`, perbedaan ini tidak terlalu besar dan mungkin tidak memiliki dampak praktis yang besar.\n"
      ],
      "metadata": {
        "id": "i3K14egxU7Bo"
      }
    },
    {
      "cell_type": "markdown",
      "source": [
        "## **loan >< y**"
      ],
      "metadata": {
        "id": "ctHeeaKaVGKZ"
      }
    },
    {
      "cell_type": "markdown",
      "source": [
        "Hipotesis\n",
        "Hipotesis Nol (H0): Tidak ada hubungan signifikan antara loan dan y. (Koefisien korelasi atau koefisien regresi = 0).\n",
        "\n",
        "Hipotesis Alternatif (H1): Ada hubungan signifikan antara loan dan y. (Koefisien korelasi atau koefisien regresi ≠ 0).\n",
        "\n",
        "Metode yang Digunakan\n",
        "Korelasi Pearson untuk mengukur kekuatan dan arah hubungan linear antara loan (variabel numerik) dan y (variabel boolean yang dikonversi ke numerik)."
      ],
      "metadata": {
        "id": "44LAyXD1at41"
      }
    },
    {
      "cell_type": "code",
      "source": [
        "import pandas as pd\n",
        "from scipy.stats import pearsonr\n",
        "\n",
        "# Konversi y ke numerik (0 dan 1)\n",
        "df['y_numeric'] = df['y'].astype(int)\n",
        "\n",
        "# Hitung korelasi Pearson\n",
        "corr, p_value = pearsonr(df['loan'], df['y_numeric'])\n",
        "\n",
        "# Tampilkan hasil\n",
        "print(f'Koefisien Korelasi Pearson: {corr:.4f}')\n",
        "print(f'P-value: {p_value:.4f}')\n"
      ],
      "metadata": {
        "colab": {
          "base_uri": "https://localhost:8080/"
        },
        "id": "Q5fei_rDbToF",
        "outputId": "e2e2d31e-1e25-40d3-f474-6fd4fca1d1d4"
      },
      "execution_count": null,
      "outputs": [
        {
          "output_type": "stream",
          "name": "stdout",
          "text": [
            "Koefisien Korelasi Pearson: -0.0688\n",
            "P-value: 0.0000\n"
          ]
        }
      ]
    },
    {
      "cell_type": "markdown",
      "source": [
        "Kesimpulan\n",
        "Secara Statistik: Hubungan antara loan dan y signifikan secara statistik karena p-value sangat kecil.\n",
        "Secara Praktis: Hubungan tersebut sangat lemah, yang berarti bahwa meskipun ada hubungan statistik yang signifikan, pengaruh praktis dari loan terhadap y sangat kecil."
      ],
      "metadata": {
        "id": "WPiGd6oqcCce"
      }
    },
    {
      "cell_type": "code",
      "source": [
        "import pandas as pd\n",
        "import seaborn as sns\n",
        "import matplotlib.pyplot as plt\n",
        "\n",
        "# Konversi kolom boolean ke numerik\n",
        "bool_to_numeric = df[['default', 'housing', 'loan']].astype(int)\n",
        "\n",
        "# Gabungkan dengan kolom numerik yang sudah ada\n",
        "nums = pd.concat([df[['age', 'balance', 'day', 'duration', 'pdays', 'previous']], bool_to_numeric], axis=1)\n",
        "\n",
        "# Hitung matriks korelasi\n",
        "corr = nums.corr()\n",
        "\n",
        "# Plot heatmap\n",
        "plt.figure(figsize=(15, 8))\n",
        "sns.heatmap(corr, annot=True, cmap='coolwarm', fmt='.2f')\n",
        "plt.title('Correlation Heatmap', fontsize=15)\n",
        "plt.show()\n"
      ],
      "metadata": {
        "colab": {
          "base_uri": "https://localhost:8080/",
          "height": 409
        },
        "id": "vwPzLafTaUWY",
        "outputId": "b8ced8c0-bb56-4339-b852-99d152b3cf6a"
      },
      "execution_count": null,
      "outputs": [
        {
          "output_type": "display_data",
          "data": {
            "text/plain": [
              "<Figure size 1500x800 with 2 Axes>"
            ],
            "image/png": "[encoded data removed]"
          },
          "metadata": {}
        }
      ]
    },
    {
      "cell_type": "markdown",
      "source": [
        "\n",
        "\n",
        "*Eksperimen saat ini telah mencakup analisis dasar dari dataset, namun pola yang muncul menunjukkan bahwa tidak ada hubungan yang sangat kuat antara fitur-fitur yang ada dengan target yang dianalisis. Untuk langkah selanjutnya, kami berencana untuk menambahkan data eksternal guna memperoleh wawasan yang lebih mendalam. Berdasarkan referensi dari penelitian ilmiah, terdapat fitur-fitur eksternal yang memiliki pengaruh signifikan terhadap target, seperti kondisi ekonomi pada periode tertentu.*\n",
        "\n",
        "*Sebagai contoh, antara tahun 2008 hingga 2012, Portugal mengalami krisis ekonomi yang dipengaruhi oleh faktor-faktor seperti perubahan dalam sektor energi terbarukan. Karena dataset ini mencerminkan situasi nyata, sangat penting untuk memasukkan data eksternal yang relevan untuk analisis yang lebih komprehensif. Langkah ini akan menjadi fokus pada tahap berikutnya, mengingat keterbatasan waktu saat ini.*\n"
      ],
      "metadata": {
        "id": "gfo4jQDadjd8"
      }
    },
    {
      "cell_type": "markdown",
      "source": [
        "# **Handling Outliers**"
      ],
      "metadata": {
        "id": "wD9wUWsSdrJN"
      }
    },
    {
      "cell_type": "markdown",
      "source": [
        "Untuk penanganan outliers dalam analisis data, Anda dapat menggunakan metode Winsorizing. Berikut penjelasan tentang metode ini dan alasannya:\n",
        "\n",
        "### **Penjelasan Metode Winsorizing**\n",
        "\n",
        "Winsorizing adalah teknik pra-pemrosesan data yang mengatasi nilai-nilai ekstrem atau outliers dengan menggantinya dengan nilai yang berada pada batas tertentu. Alih-alih menghapus data outlier, Winsorizing mengubah nilai-nilai ekstrem ke nilai batas yang telah ditentukan. Metode ini sering digunakan untuk mengurangi dampak outliers pada analisis statistik dan model prediksi.\n",
        "\n",
        "### **Langkah-langkah Winsorizing**\n",
        "\n",
        "1. **Tentukan Batas Bawah dan Atas**:\n",
        "   - Untuk mengidentifikasi batas bawah dan atas, Winsorizing biasanya menggunakan persentil atau quartile. Misalnya, batas dapat ditentukan sebagai persentil ke-1 dan ke-99 atau berdasarkan quartile dengan rentang interquartile (IQR).\n",
        "   - Sebagai contoh, menggunakan quartile, batas bawah adalah Q1 - 1.5*IQR dan batas atas adalah Q3 + 1.5*IQR.\n",
        "\n",
        "2. **Terapkan Batas pada Data**:\n",
        "   - Ganti nilai-nilai yang berada di bawah batas bawah dengan nilai batas bawah.\n",
        "   - Ganti nilai-nilai yang berada di atas batas atas dengan nilai batas atas.\n",
        "\n",
        "### **Alasan Menggunakan Winsorizing**\n",
        "\n",
        "1. **Mengurangi Dampak Outliers**:\n",
        "   - Outliers dapat mendistorsi hasil analisis statistik dan model prediksi. Dengan mengubah nilai-nilai ekstrem ke batas yang lebih wajar, Winsorizing membantu mengurangi efek dari outliers tanpa menghapus data yang mungkin berharga.\n",
        "\n",
        "2. **Mempertahankan Data**:\n",
        "   - Winsorizing mempertahankan semua data asli, tetapi mengatur ulang nilai-nilai ekstrem. Ini memastikan bahwa informasi yang mungkin berguna dalam data tetap ada, sementara nilai ekstrem tidak memengaruhi hasil analisis secara berlebihan.\n",
        "\n",
        "3. **Meningkatkan Stabilitas Analisis**:\n",
        "   - Dengan membatasi nilai-nilai ekstrem, distribusi data menjadi lebih stabil dan mendekati distribusi normal. Ini membuat teknik statistik dan model prediksi lebih efektif dan menghasilkan hasil yang lebih dapat diandalkan.\n",
        "\n",
        "4. **Kesesuaian untuk Model Statistik**:\n",
        "   - Banyak model statistik dan machine learning lebih sensitif terhadap data yang sangat miring atau memiliki outliers ekstrem. Winsorizing membantu dalam memastikan bahwa model tersebut bekerja lebih baik dengan data yang telah distabilkan.\n"
      ],
      "metadata": {
        "id": "uLrPwno5z0I2"
      }
    },
    {
      "cell_type": "code",
      "source": [
        "import pandas as pd\n",
        "\n",
        "# Menentukan kolom numerik\n",
        "numeric_cols = ['age', 'balance', 'duration', 'pdays', 'previous']\n",
        "\n",
        "# Menghitung batas atas dan bawah berdasarkan IQR\n",
        "for col in numeric_cols:\n",
        "    Q1 = df[col].quantile(0.25)\n",
        "    Q3 = df[col].quantile(0.75)\n",
        "    IQR = Q3 - Q1\n",
        "    lower_limit = Q1 - 1.5 * IQR\n",
        "    upper_limit = Q3 + 1.5 * IQR\n",
        "    df[col] = df[col].clip(lower=lower_limit, upper=upper_limit)\n"
      ],
      "metadata": {
        "id": "cuho0dFSzc08"
      },
      "execution_count": null,
      "outputs": []
    },
    {
      "cell_type": "markdown",
      "source": [
        "## **Feature transformation**\n"
      ],
      "metadata": {
        "id": "tpeLiuu6i-_1"
      }
    },
    {
      "cell_type": "code",
      "source": [
        "import pandas as pd\n",
        "from sklearn.preprocessing import MinMaxScaler\n",
        "\n",
        "# Kolom numerik untuk Min-Max Scaling\n",
        "numeric_cols = ['age', 'balance', 'duration', 'pdays', 'previous']\n",
        "\n",
        "# Statistik deskriptif sebelum scaling\n",
        "print(\"Statistik Deskriptif Sebelum Min-Max Scaling:\")\n",
        "print(df[numeric_cols].describe())\n",
        "\n",
        "# Inisialisasi MinMaxScaler\n",
        "scaler = MinMaxScaler()\n",
        "\n",
        "# Terapkan Min-Max Scaling\n",
        "df_scaled = df.copy()\n",
        "df_scaled[numeric_cols] = scaler.fit_transform(df[numeric_cols])\n",
        "\n",
        "# Statistik deskriptif setelah scaling\n",
        "print(\"\\nStatistik Deskriptif Setelah Min-Max Scaling:\")\n",
        "print(df_scaled[numeric_cols].describe())\n"
      ],
      "metadata": {
        "colab": {
          "base_uri": "https://localhost:8080/"
        },
        "id": "lsaVSQ9bjDX8",
        "outputId": "b76ecd04-f724-4b70-e6c4-ee118052bfad"
      },
      "execution_count": null,
      "outputs": [
        {
          "output_type": "stream",
          "name": "stdout",
          "text": [
            "Statistik Deskriptif Sebelum Min-Max Scaling:\n",
            "                age       balance      duration    pdays  previous\n",
            "count  43193.000000  43193.000000  43193.000000  43193.0   43193.0\n",
            "mean      40.701665    970.472634    234.770379    999.0       0.0\n",
            "std       10.304865   1106.811398    176.234987      0.0       0.0\n",
            "min       18.000000      1.000000      0.000000    999.0       0.0\n",
            "25%       33.000000    137.000000    103.000000    999.0       0.0\n",
            "50%       39.000000    482.000000    180.000000    999.0       0.0\n",
            "75%       48.000000   1424.000000    318.000000    999.0       0.0\n",
            "max       70.500000   3354.500000    640.500000    999.0       0.0\n",
            "\n",
            "Statistik Deskriptif Setelah Min-Max Scaling:\n",
            "                age       balance      duration    pdays  previous\n",
            "count  43193.000000  43193.000000  43193.000000  43193.0   43193.0\n",
            "mean       0.432413      0.289093      0.366542      0.0       0.0\n",
            "std        0.196283      0.330047      0.275152      0.0       0.0\n",
            "min        0.000000      0.000000      0.000000      0.0       0.0\n",
            "25%        0.285714      0.040555      0.160812      0.0       0.0\n",
            "50%        0.400000      0.143432      0.281030      0.0       0.0\n",
            "75%        0.571429      0.424333      0.496487      0.0       0.0\n",
            "max        1.000000      1.000000      1.000000      0.0       0.0\n"
          ]
        }
      ]
    },
    {
      "cell_type": "markdown",
      "source": [
        "Dari statistik deskriptif sebelum dan setelah Min-Max Scaling, kita bisa melihat beberapa perubahan signifikan yang mengindikasikan efek dari scaling pada data:\n",
        "\n",
        "### **Statistik Deskriptif Sebelum Scaling**\n",
        "- **`age`**: Nilai minimum dan maksimum cukup luas (-1.4 hingga 2.1) dan data tidak memiliki batasan tertentu.\n",
        "- **`balance`**: Juga memiliki rentang nilai yang besar (-0.37 hingga 2.23).\n",
        "- **`duration`**: Rentang nilai yang luas (-0.84 hingga 2.14).\n",
        "- **`pdays` dan `previous`**: Hanya memiliki nilai 0 atau nilai kecil lainnya, tidak banyak variasi.\n",
        "\n",
        "### **Statistik Deskriptif Setelah Scaling**\n",
        "- **`age`**: Rentang nilai menjadi 0 hingga 1 dengan mean di 0.43, dan distribusi nilai yang lebih kompak.\n",
        "- **`balance`**: Rentang nilai menjadi 0 hingga 1, mean di 0.29, distribusi nilai menjadi lebih teratur.\n",
        "- **`duration`**: Rentang nilai 0 hingga 1 dengan mean di 0.37.\n",
        "- **`pdays` dan `previous`**: Masih memiliki nilai 0 saja, tidak ada perubahan signifikan di sini karena mereka mungkin sudah memiliki nilai yang terbatas.\n",
        "\n",
        "### **Analisis Efek Scaling**\n",
        "\n",
        "1. **Rentang Nilai**:\n",
        "   - Setelah Min-Max Scaling, rentang nilai setiap kolom menjadi 0 hingga 1. Ini memudahkan perbandingan antar kolom dan mempersiapkan data untuk teknik yang sensitif terhadap skala, seperti algoritma machine learning.\n",
        "\n",
        "2. **Mean dan Standar Deviasi**:\n",
        "   - Mean dan standar deviasi kolom numerik setelah scaling lebih terkontrol dan berada dalam rentang yang konsisten. Ini membantu memastikan bahwa semua fitur memiliki pengaruh yang sebanding dalam model.\n",
        "\n",
        "3. **Distribusi Data**:\n",
        "   - Setelah scaling, distribusi data menjadi lebih seragam dan dalam rentang yang terbatas. Ini dapat meningkatkan performa beberapa algoritma machine learning yang sensitif terhadap skala fitur.\n",
        "\n",
        "4. **Kolom `pdays` dan `previous`**:\n",
        "   - Kedua kolom ini tetap memiliki nilai 0 setelah scaling, menunjukkan bahwa mereka mungkin tidak memberikan banyak informasi atau variasi yang berguna setelah scaling.\n",
        "\n",
        "### **Kesimpulan**\n",
        "\n",
        "Min-Max Scaling telah mengubah data Anda dari rentang nilai yang luas ke rentang yang lebih kompak (0 hingga 1). Ini adalah langkah penting untuk memastikan bahwa semua fitur berkontribusi secara seimbang dalam model analisis atau machine learning yang Anda gunakan. Perubahan ini seharusnya membantu dalam meningkatkan performa model dan konsistensi hasil analisis.\n",
        "\n"
      ],
      "metadata": {
        "id": "LT_0EqAZBa24"
      }
    },
    {
      "cell_type": "markdown",
      "source": [
        "\n",
        "*Dalam proses pra-pemrosesan data kali ini, telah dilakukan penghapusan outliers menggunakan metode Winsorizing. Setelah proses tersebut, beberapa kolom dalam dataset menunjukkan distribusi yang mendekati distribusi normal, meskipun tidak sepenuhnya sempurna dan masih terdapat kecenderungan right skew. Dalam konteks ini, normalisasi diterapkan untuk memastikan bahwa semua fitur berada dalam rentang yang konsisten, yaitu [0, 1], yang merupakan langkah penting untuk model yang sensitif terhadap skala fitur.*\n",
        "\n",
        "**Alasan untuk Normalisasi:**\n",
        "1. **Konsistensi Skala Fitur:** Normalisasi mengubah skala data sehingga semua fitur berada dalam rentang yang seragam, yaitu [0, 1]. Ini membantu model machine learning berfungsi dengan lebih baik karena fitur-fitur yang berada pada skala yang berbeda dapat mempengaruhi kinerja model secara tidak proporsional.\n",
        "\n",
        "2. **Pengaruh Outliers:** Meskipun Winsorizing telah mengurangi dampak outliers, normalisasi membantu mengatasi perbedaan skala yang mungkin masih ada setelah proses tersebut. Ini penting untuk algoritma yang sensitif terhadap skala, seperti gradient descent-based methods.\n",
        "\n",
        "3. **Kemudahan dalam Model Training:** Model-model seperti regresi logistik, SVM, dan neural networks lebih efektif ketika data berada dalam rentang yang sama. Normalisasi membantu mempercepat konvergensi dan meningkatkan kinerja model.\n",
        "\n",
        "*Namun, jika di kemudian hari ditemukan bahwa model yang digunakan memerlukan data dengan distribusi yang lebih mendekati distribusi normal untuk hasil yang lebih optimal, proses transformasi akan diterapkan. Teknik transformasi seperti logaritma atau transformasi lainnya akan digunakan untuk mengatasi distribusi miring yang tersisa dan meningkatkan kesesuaian data dengan asumsi model.*\n",
        "\n",
        "**Rencana Iteratif:**\n",
        "- **Evaluasi Berkala:** Proses akan melibatkan evaluasi berkala untuk menentukan apakah distribusi data memerlukan penyesuaian lebih lanjut.\n",
        "- **Transformasi:** Jika analisis atau performa model menunjukkan perlunya distribusi yang lebih normal, transformasi tambahan akan diterapkan. Misalnya, transformasi logaritma dapat digunakan untuk mengurangi skewness.\n",
        "\n",
        "Dengan pendekatan ini, iterasi berulang dilakukan untuk memastikan bahwa data dipersiapkan dengan cara yang paling sesuai dengan kebutuhan model dan analisis yang dilakukan.\n",
        "\n"
      ],
      "metadata": {
        "id": "2OktByCkCwmH"
      }
    },
    {
      "cell_type": "markdown",
      "source": [
        "## **Feature encoding**"
      ],
      "metadata": {
        "id": "eposVM7HDNkI"
      }
    },
    {
      "cell_type": "markdown",
      "source": [
        "\n",
        "\n",
        "Dalam proses encoding fitur untuk model machine learning, penting untuk memilih metode encoding yang tepat berdasarkan jenis data dan fitur. Berikut adalah analisis untuk fitur-fitur dalam dataset Anda:\n",
        "\n",
        "### **One-Hot Encoding**\n",
        "\n",
        "**One-hot encoding** cocok untuk variabel kategorikal nominal yang tidak memiliki urutan atau hubungan ordinal antara nilai-nilainya. Setiap kategori diubah menjadi kolom biner terpisah.\n",
        "\n",
        "Fitur-fitur yang cocok untuk **one-hot encoding** dalam dataset Anda:\n",
        "\n",
        "1. **`job`**: Memiliki 11 kategori berbeda. One-hot encoding akan menciptakan 11 kolom baru, satu untuk setiap kategori. Meskipun `job` memiliki banyak nilai unik, untuk saat ini kita akan menerapkan one-hot encoding. Namun, akan dilakukan analisis lebih lanjut untuk mengevaluasi dampak dimensionalitas tinggi yang mungkin timbul dan menentukan apakah metode encoding alternatif seperti target encoding atau embedding lebih sesuai.\n",
        "\n",
        "2. **`marital`**: Memiliki 3 kategori ('married', 'single', 'divorced'). One-hot encoding akan menciptakan 3 kolom baru.\n",
        "\n",
        "3. **`education`**: Memiliki 3 kategori ('tertiary', 'secondary', 'primary'). One-hot encoding akan menciptakan 3 kolom baru.\n",
        "\n",
        "4. **`contact`**: Memiliki 2 kategori ('cellular', 'telephone'). One-hot encoding akan menciptakan 2 kolom baru.\n",
        "\n",
        "5. **`poutcome`**: Memiliki 4 kategori ('nonexistent', 'failure', 'other', 'success'). One-hot encoding akan menciptakan 4 kolom baru.\n",
        "\n",
        "### **Label Encoding**\n",
        "\n",
        "**Label encoding** cocok untuk variabel kategorikal ordinal di mana ada urutan antara kategori. Label encoding mengubah kategori menjadi angka integer. Juga bisa digunakan untuk variabel biner.\n",
        "\n",
        "Fitur-fitur yang lebih cocok untuk **label encoding** atau **langsung digunakan**:\n",
        "\n",
        "1. **`default`**: Variabel biner dengan nilai True/False. Label encoding dapat mengubah ini menjadi 1/0 atau Anda bisa menggunakan langsung dalam model yang mendukung fitur biner.\n",
        "\n",
        "2. **`housing`**: Variabel biner dengan nilai True/False. Label encoding dapat mengubah ini menjadi 1/0 atau langsung digunakan.\n",
        "\n",
        "3. **`loan`**: Variabel biner dengan nilai True/False. Label encoding dapat mengubah ini menjadi 1/0 atau langsung digunakan.\n",
        "\n",
        "4. **`y`**: Variabel target biner dengan nilai True/False. Label encoding atau konversi ke 1/0 sudah dilakukan dengan kolom `y_numeric`, sehingga bisa langsung digunakan.\n",
        "\n",
        "### **Ringkasan**\n",
        "\n",
        "- **One-Hot Encoding**: `job`, `marital`,, `contact`, `poutcome`.\n",
        "- **Label Encoding atau Langsung Digunakan**: `default`, `housing`, `loan`,  `education`.\n",
        "\n"
      ],
      "metadata": {
        "id": "h152GSMzFSje"
      }
    },
    {
      "cell_type": "code",
      "source": [
        "df.info()"
      ],
      "metadata": {
        "colab": {
          "base_uri": "https://localhost:8080/"
        },
        "id": "9UrZglRYKW6L",
        "outputId": "6cc6c88b-0db6-4a8b-d850-a187df4ddfe7"
      },
      "execution_count": null,
      "outputs": [
        {
          "output_type": "stream",
          "name": "stdout",
          "text": [
            "<class 'pandas.core.frame.DataFrame'>\n",
            "Index: 43193 entries, 0 to 45210\n",
            "Data columns (total 18 columns):\n",
            " #   Column     Non-Null Count  Dtype  \n",
            "---  ------     --------------  -----  \n",
            " 0   age        43193 non-null  float64\n",
            " 1   job        43193 non-null  object \n",
            " 2   marital    43193 non-null  object \n",
            " 3   education  43193 non-null  object \n",
            " 4   default    43193 non-null  bool   \n",
            " 5   balance    43193 non-null  float64\n",
            " 6   housing    43193 non-null  bool   \n",
            " 7   loan       43193 non-null  bool   \n",
            " 8   contact    43193 non-null  object \n",
            " 9   day        43193 non-null  int64  \n",
            " 10  month      43193 non-null  object \n",
            " 11  duration   43193 non-null  float64\n",
            " 12  campaign   43193 non-null  object \n",
            " 13  pdays      43193 non-null  int64  \n",
            " 14  previous   43193 non-null  int64  \n",
            " 15  poutcome   43193 non-null  object \n",
            " 16  y          43193 non-null  bool   \n",
            " 17  y_numeric  43193 non-null  int64  \n",
            "dtypes: bool(4), float64(3), int64(4), object(7)\n",
            "memory usage: 5.1+ MB\n"
          ]
        }
      ]
    },
    {
      "cell_type": "code",
      "source": [
        "import pandas as pd\n",
        "from sklearn.preprocessing import LabelEncoder\n",
        "\n",
        "# One-Hot Encoding untuk kolom-kolom yang sesuai\n",
        "df_encoded = pd.get_dummies(df, columns=['job', 'marital', 'contact', 'poutcome'])\n",
        "\n",
        "# Label Encoding untuk kolom biner\n",
        "label_encoder = LabelEncoder()\n",
        "df_encoded['default'] = label_encoder.fit_transform(df['default'])\n",
        "df_encoded['housing'] = label_encoder.fit_transform(df['housing'])\n",
        "df_encoded['loan'] = label_encoder.fit_transform(df['loan'])\n",
        "\n",
        "# Label Encoding untuk kolom 'month' sesuai urutan bulan\n",
        "month_order = ['jan', 'feb', 'mar', 'apr', 'may', 'jun', 'jul', 'aug', 'sep', 'oct', 'nov', 'dec']\n",
        "df['month'] = pd.Categorical(df['month'], categories=month_order, ordered=True)\n",
        "df_encoded['month'] = df['month'].cat.codes\n",
        "\n",
        "# Label Encoding untuk kolom 'education' sesuai urutan yang diberikan\n",
        "education_order = ['primary', 'secondary', 'tertiary']\n",
        "df['education'] = pd.Categorical(df['education'], categories=education_order, ordered=True)\n",
        "df_encoded['education'] = df['education'].cat.codes\n",
        "\n",
        "# Menghapus kolom 'education' dari one-hot encoding\n",
        "df_encoded.drop(columns=['education'], inplace=True)\n",
        "\n",
        "# Memastikan hanya satu kolom 'y' yang dipertahankan dan dalam bentuk biner (1 dan 0)\n",
        "df_encoded = df_encoded.drop(columns=['y_numeric'], errors='ignore')\n",
        "\n",
        "# Pastikan y adalah tipe data integer atau boolean\n",
        "df_encoded['y'] = df_encoded['y'].astype(int)\n",
        "\n",
        "# Tampilkan informasi DataFrame setelah encoding\n",
        "print(df_encoded.info())\n"
      ],
      "metadata": {
        "id": "cQZam1-5BpNg",
        "colab": {
          "base_uri": "https://localhost:8080/"
        },
        "outputId": "0cb293d9-3c21-4998-845a-ee92b2dbe22e"
      },
      "execution_count": null,
      "outputs": [
        {
          "output_type": "stream",
          "name": "stdout",
          "text": [
            "<class 'pandas.core.frame.DataFrame'>\n",
            "Index: 43193 entries, 0 to 45210\n",
            "Data columns (total 32 columns):\n",
            " #   Column                Non-Null Count  Dtype  \n",
            "---  ------                --------------  -----  \n",
            " 0   age                   43193 non-null  float64\n",
            " 1   default               43193 non-null  int64  \n",
            " 2   balance               43193 non-null  float64\n",
            " 3   housing               43193 non-null  int64  \n",
            " 4   loan                  43193 non-null  int64  \n",
            " 5   day                   43193 non-null  int64  \n",
            " 6   month                 43193 non-null  int8   \n",
            " 7   duration              43193 non-null  float64\n",
            " 8   campaign              43193 non-null  object \n",
            " 9   pdays                 43193 non-null  int64  \n",
            " 10  previous              43193 non-null  int64  \n",
            " 11  y                     43193 non-null  int64  \n",
            " 12  job_admin.            43193 non-null  bool   \n",
            " 13  job_blue-collar       43193 non-null  bool   \n",
            " 14  job_entrepreneur      43193 non-null  bool   \n",
            " 15  job_housemaid         43193 non-null  bool   \n",
            " 16  job_management        43193 non-null  bool   \n",
            " 17  job_retired           43193 non-null  bool   \n",
            " 18  job_self-employed     43193 non-null  bool   \n",
            " 19  job_services          43193 non-null  bool   \n",
            " 20  job_student           43193 non-null  bool   \n",
            " 21  job_technician        43193 non-null  bool   \n",
            " 22  job_unemployed        43193 non-null  bool   \n",
            " 23  marital_divorced      43193 non-null  bool   \n",
            " 24  marital_married       43193 non-null  bool   \n",
            " 25  marital_single        43193 non-null  bool   \n",
            " 26  contact_cellular      43193 non-null  bool   \n",
            " 27  contact_telephone     43193 non-null  bool   \n",
            " 28  poutcome_failure      43193 non-null  bool   \n",
            " 29  poutcome_nonexistent  43193 non-null  bool   \n",
            " 30  poutcome_other        43193 non-null  bool   \n",
            " 31  poutcome_success      43193 non-null  bool   \n",
            "dtypes: bool(20), float64(3), int64(7), int8(1), object(1)\n",
            "memory usage: 4.8+ MB\n",
            "None\n"
          ]
        }
      ]
    },
    {
      "cell_type": "markdown",
      "source": [
        "Pisahkan Fitur dan Target"
      ],
      "metadata": {
        "id": "G1AYEq1sMtqQ"
      }
    },
    {
      "cell_type": "code",
      "source": [
        "# Pisahkan fitur dan target dari df_encoded\n",
        "X = df_encoded.drop(columns=['y'])\n",
        "y = df_encoded['y']\n",
        "\n",
        "# Tampilkan bentuk awal X dan y\n",
        "print(\"Original shape of X:\", X.shape)\n",
        "print(\"Original shape of y:\", y.shape)\n",
        "\n",
        "# Tampilkan distribusi kelas awal\n",
        "print(\"Original class distribution:\\n\", y.value_counts())\n"
      ],
      "metadata": {
        "colab": {
          "base_uri": "https://localhost:8080/"
        },
        "id": "APaMvRMhMnwK",
        "outputId": "218cfd18-114f-403d-b440-868be0649fb5"
      },
      "execution_count": null,
      "outputs": [
        {
          "output_type": "stream",
          "name": "stdout",
          "text": [
            "Original shape of X: (43193, 31)\n",
            "Original shape of y: (43193,)\n",
            "Original class distribution:\n",
            " y\n",
            "0    38172\n",
            "1     5021\n",
            "Name: count, dtype: int64\n"
          ]
        }
      ]
    },
    {
      "cell_type": "markdown",
      "source": [
        "## **Handle class imbalance**\n"
      ],
      "metadata": {
        "id": "pvn8INcqGhOA"
      }
    },
    {
      "cell_type": "code",
      "source": [
        "from sklearn.model_selection import train_test_split\n",
        "\n",
        "# Membagi dataset menjadi train dan test\n",
        "X_train, X_test, y_train, y_test = train_test_split(X, y, test_size=0.2, random_state=42)\n",
        "\n",
        "# Tampilkan bentuk dataset train dan test\n",
        "print(\"Train shape of X:\", X_train.shape)\n",
        "print(\"Train shape of y:\", y_train.shape)\n",
        "print(\"Test shape of X:\", X_test.shape)\n",
        "print(\"Test shape of y:\", y_test.shape)\n"
      ],
      "metadata": {
        "colab": {
          "base_uri": "https://localhost:8080/"
        },
        "id": "CEe4Rk-iGuPx",
        "outputId": "5778d3ad-4114-4d9f-8495-c14800e9234a"
      },
      "execution_count": null,
      "outputs": [
        {
          "output_type": "stream",
          "name": "stdout",
          "text": [
            "Train shape of X: (34554, 31)\n",
            "Train shape of y: (34554,)\n",
            "Test shape of X: (8639, 31)\n",
            "Test shape of y: (8639,)\n"
          ]
        }
      ]
    },
    {
      "cell_type": "markdown",
      "source": [
        "Sebelum menangani ketidakseimbangan kelas dalam data, penting untuk membagi dataset menjadi data pelatihan dan pengujian. Berikut adalah alasan mengapa ini dilakukan:\n",
        "\n",
        "### Alasan Memisahkan Data Sebelum Menangani Ketidakseimbangan Kelas\n",
        "\n",
        "1. **Menghindari Data Leakage**:\n",
        "   - Jika ketidakseimbangan kelas ditangani sebelum pemisahan data, informasi dari data pengujian dapat bocor ke data pelatihan. Ini menyebabkan model terlihat berkinerja lebih baik pada data pengujian daripada yang sebenarnya karena telah melihat sebagian dari distribusi data pengujian selama pelatihan.\n",
        "\n",
        "2. **Simulasi Kondisi Nyata**:\n",
        "   - Dalam situasi dunia nyata, kita tidak akan memiliki akses ke data pengujian saat melakukan preprocessing pada data pelatihan. Memisahkan data terlebih dahulu memastikan bahwa kita mensimulasikan kondisi yang sama selama pelatihan dan evaluasi.\n",
        "\n",
        "3. **Evaluasi yang Lebih Akurat**:\n",
        "   - Dengan memisahkan data terlebih dahulu, kita dapat melakukan penanganan ketidakseimbangan kelas hanya pada data pelatihan. Ini memungkinkan kita untuk mengevaluasi model pada data pengujian yang belum terpengaruh oleh teknik resampling atau penyeimbangan kelas, memberikan gambaran yang lebih akurat tentang kinerja model.\n",
        "\n",
        "\n",
        "\n"
      ],
      "metadata": {
        "id": "2tDlUxk0HLtE"
      }
    },
    {
      "source": [
        "from imblearn.over_sampling import SMOTE\n",
        "\n",
        "# Menerapkan SMOTE\n",
        "smote = SMOTE(random_state=42)\n",
        "X_train_smote, y_train_smote = smote.fit_resample(X_train, y_train)\n",
        "\n",
        "# Menampilkan dimensi setelah SMOTE\n",
        "print(f\"Original train dataset shape: {X_train.shape, y_train.shape}\")\n",
        "print(f\"Resampled train dataset shape: {X_train_smote.shape, y_train_smote.shape}\")\n",
        "\n",
        "# Menampilkan distribusi kelas setelah SMOTE\n",
        "print('\\nAfter SMOTE:')\n",
        "print(pd.Series(y_train_smote).value_counts())\n"
      ],
      "cell_type": "code",
      "metadata": {
        "colab": {
          "base_uri": "https://localhost:8080/"
        },
        "id": "_BPSR3mrH-ZW",
        "outputId": "b9debe6f-a29d-45c6-8726-62075d957be7"
      },
      "execution_count": null,
      "outputs": [
        {
          "output_type": "stream",
          "name": "stdout",
          "text": [
            "Original train dataset shape: ((34554, 31), (34554,))\n",
            "Resampled train dataset shape: ((61028, 31), (61028,))\n",
            "\n",
            "After SMOTE:\n",
            "y\n",
            "1    30514\n",
            "0    30514\n",
            "Name: count, dtype: int64\n"
          ]
        }
      ]
    },
    {
      "cell_type": "markdown",
      "source": [
        "Menggunakan SMOTE (Synthetic Minority Over-sampling Technique) untuk menangani ketidakseimbangan kelas memiliki beberapa keuntungan penting dibandingkan metode lainnya seperti undersampling atau oversampling konvensional. Berikut adalah beberapa alasan kuat mengapa SMOTE sering kali lebih baik:\n",
        "\n",
        "1. Meningkatkan Kinerja Model\n",
        "- **Mengurangi Bias Kelas Mayoritas:** Dalam dataset yang tidak seimbang, model cenderung untuk memprediksi kelas mayoritas lebih sering. Dengan menyeimbangkan kelas menggunakan SMOTE, model dapat belajar untuk mengenali pola dalam data minoritas, sehingga meningkatkan akurasi prediksi untuk kedua kelas.\n",
        "- **Mengurangi Overfitting:** Oversampling konvensional cenderung menduplikasi data minoritas, yang dapat menyebabkan overfitting karena model belajar dari data yang sama berulang kali. SMOTE, di sisi lain, menghasilkan contoh sintetis baru dari data minoritas, yang membantu dalam mengurangi risiko overfitting.\n",
        "\n",
        " 2. Mempertahankan Informasi\n",
        "- **Menghindari Kehilangan Informasi:** Undersampling kelas mayoritas dapat menghilangkan informasi penting karena banyak data mayoritas yang dibuang. Dengan SMOTE, semua data mayoritas tetap dipertahankan, dan contoh sintetis ditambahkan ke kelas minoritas, sehingga tidak ada informasi yang hilang dari kelas mayoritas.\n",
        "- **Meningkatkan Variabilitas Data:** Contoh sintetis yang dihasilkan oleh SMOTE membantu dalam memperluas representasi data minoritas, yang dapat memberikan model lebih banyak informasi untuk dipelajari dan meningkatkan generalisasi model.\n",
        "\n",
        "\n",
        "\n",
        "\n"
      ],
      "metadata": {
        "id": "vS7wi2okNOp2"
      }
    },
    {
      "cell_type": "markdown",
      "source": [
        "## **Feature Engineering**"
      ],
      "metadata": {
        "id": "IlmD43qsOUZl"
      }
    },
    {
      "cell_type": "markdown",
      "source": [
        "Berikut adalah daftar lengkap fitur baru yang bisa diekstrak dari dataset yang ada.\n",
        "\n",
        "### 1. **Binning**\n",
        "   - **Age Group:**\n",
        "     - Membagi kolom `age` menjadi beberapa kategori seperti `Youth` (<= 25), `Adult` (26-45), `Senior` (46-65), `Elderly` (65+).\n",
        "     - **Alasan:** Mengelompokkan usia dapat membantu dalam analisis perilaku nasabah berdasarkan kelompok usia yang berbeda.\n",
        "\n",
        "### 2. **Derived Features**\n",
        "   - **Balance per Campaign:**\n",
        "     - Membuat kolom baru `balance_per_campaign` = `balance` / (`campaign` + 1) (menambahkan 1 untuk menghindari pembagian dengan nol).\n",
        "     - **Alasan:** Menilai seberapa besar saldo rata-rata per kampanye yang diikuti nasabah.\n",
        "\n",
        "   - **Contact Duration per Day:**\n",
        "     - Membuat kolom baru `duration_per_day` = `duration` / (`day` + 1) (menambahkan 1 untuk menghindari pembagian dengan nol).\n",
        "     - **Alasan:** Mengukur durasi rata-rata kontak per hari.\n",
        "\n",
        "### 3. **Interaction Features**\n",
        "   - **Balance * Duration:**\n",
        "     - Membuat kolom baru dari hasil perkalian `balance` dan `duration`.\n",
        "     - **Alasan:** Menangkap efek gabungan antara saldo nasabah dan durasi kontak yang mungkin mempengaruhi hasil kampanye.\n",
        "\n",
        "   - **Campaign * Previous:**\n",
        "     - Membuat kolom baru dari hasil perkalian `campaign` dan `previous`.\n",
        "     - **Alasan:** Mengukur seberapa sering nasabah dihubungi dalam kampanye sebelumnya.\n",
        "\n",
        "### 4. **Temporal Features**\n",
        "   - **Month to Quarter:**\n",
        "     - Mengubah kolom `month` menjadi kuartal (`Q1`, `Q2`, `Q3`, `Q4`).\n",
        "     - **Alasan:** Mengidentifikasi pola musiman dalam kampanye pemasaran.\n",
        "\n",
        "### 5. **Aggregated Features**\n",
        "   - **Total Contacts:**\n",
        "     - Menjumlahkan kolom `campaign` dan `previous` menjadi kolom baru `total_contacts`.\n",
        "     - **Alasan:** Mengukur total jumlah kontak yang diterima nasabah dalam semua kampanye.\n",
        "\n",
        "   - **Average Balance per Education:**\n",
        "     - Membuat kolom baru `avg_balance_education` yang menunjukkan rata-rata balance untuk setiap kategori pendidikan (`education`).\n",
        "     - **Alasan:** Mengetahui bagaimana rata-rata saldo nasabah berbeda berdasarkan tingkat pendidikan mereka.\n",
        "\n",
        "   - **Average Balance per Job:**\n",
        "     - Membuat kolom baru `avg_balance_job` yang menunjukkan rata-rata balance untuk setiap kategori pekerjaan (`job`).\n",
        "     - **Alasan:** Menilai perbedaan rata-rata saldo berdasarkan jenis pekerjaan nasabah.\n",
        "\n",
        "   - **Average Balance per Marital Status:**\n",
        "     - Membuat kolom baru `avg_balance_marital` yang menunjukkan rata-rata balance untuk setiap kategori status pernikahan (`marital`).\n",
        "     - **Alasan:** Mengidentifikasi pola saldo rata-rata berdasarkan status pernikahan.\n",
        "\n",
        "   - **Average Balance per Combination of Marital and Job:**\n",
        "     - Membuat kolom baru `avg_balance_marital_job` yang menunjukkan rata-rata balance untuk setiap kombinasi dari `marital` dan `job`.\n",
        "     - **Alasan:** Mengetahui bagaimana rata-rata saldo nasabah berbeda berdasarkan kombinasi status pernikahan dan jenis pekerjaan.\n",
        "\n",
        "   - **Average Balance per Combination of Marital, Job, and Education:**\n",
        "     - Membuat kolom baru `avg_balance_marital_job_education` yang menunjukkan rata-rata balance untuk setiap kombinasi dari `marital`, `job`, dan `education`.\n",
        "     - **Alasan:** Mengetahui bagaimana rata-rata saldo nasabah berbeda berdasarkan kombinasi status pernikahan, jenis pekerjaan, dan tingkat pendidikan.\n"
      ],
      "metadata": {
        "id": "rE6-d1aCSAOE"
      }
    },
    {
      "cell_type": "markdown",
      "source": [
        "## **NOTE**\n",
        "**_Untuk fitur-fitur ini akan dilakukan pada iterasi selanjutnya, penambahan data eksternal terkait kondisi ekonomi juga akan ditambahkan. Karena keterbatasan waktu, analisis ini tidak dapat dilakukan dengan sempurna, selanjutnya akan dielaborasi lebih dalam dan mendetail pada stage selanjutnya._**\n"
      ],
      "metadata": {
        "id": "QCLqjhyzSKeK"
      }
    }
  ]
}